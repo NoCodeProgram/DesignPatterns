{
  "nbformat": 4,
  "nbformat_minor": 0,
  "metadata": {
    "colab": {
      "name": "mediatorP.ipynb",
      "provenance": [],
      "collapsed_sections": [],
      "authorship_tag": "ABX9TyNNnymsJ3LLqLBhlsbOKqAa",
      "include_colab_link": true
    },
    "kernelspec": {
      "name": "python3",
      "display_name": "Python 3"
    },
    "language_info": {
      "name": "python"
    }
  },
  "cells": [
    {
      "cell_type": "markdown",
      "metadata": {
        "id": "view-in-github",
        "colab_type": "text"
      },
      "source": [
        "<a href=\"https://colab.research.google.com/github/NoCodeProgram/DesignPatterns/blob/main/Behavioral/mediatorP.ipynb\" target=\"_parent\"><img src=\"https://colab.research.google.com/assets/colab-badge.svg\" alt=\"Open In Colab\"/></a>"
      ]
    },
    {
      "cell_type": "code",
      "metadata": {
        "id": "-Pp4YhEKeLGf"
      },
      "source": [
        "class Mediator:\n",
        "  def notify(sender):\n",
        "    pass    "
      ],
      "execution_count": 20,
      "outputs": []
    },
    {
      "cell_type": "code",
      "metadata": {
        "id": "QILsSeCUhfWp"
      },
      "source": [
        "class Clock:\n",
        "  def setMediator(self,mediator:Mediator):\n",
        "    self.mediator = mediator\n",
        "  def Alarm(self):\n",
        "    print(\"alarm on\")\n",
        "    self.mediator.notify('AlarmOn')\n",
        "\n",
        "class Light:\n",
        "  def setMediator(self,mediator:Mediator):\n",
        "    self.mediator = mediator\n",
        "  def On(self):\n",
        "    print(\"light On\")    \n",
        "  def Off(self):\n",
        "    print(\"Light off\")\n",
        "    self.mediator.notify('lightOff')\n",
        "\n",
        "class Speaker:\n",
        "  def setMediator(self,mediator:Mediator):\n",
        "    self.mediator = mediator\n",
        "  def On(self):\n",
        "    print(\"speaker on\")\n",
        "  def Off(self):\n",
        "    print(\"speaker off\")\n",
        "\n"
      ],
      "execution_count": 26,
      "outputs": []
    },
    {
      "cell_type": "code",
      "metadata": {
        "id": "5HEDlqjlh2a5"
      },
      "source": [
        "class HomeMediator(Mediator):\n",
        "  def __init__(self,clock,light,speaker):\n",
        "    self.clock = clock    \n",
        "    self.light = light\n",
        "    self.speaker = speaker\n",
        "\n",
        "  def notify(self,signal:str):\n",
        "    if signal == 'AlarmOn':\n",
        "      self.speaker.On()\n",
        "      self.light.On()\n",
        "\n",
        "    elif signal == 'lightOff':\n",
        "      self.speaker.Off()\n",
        "  "
      ],
      "execution_count": 22,
      "outputs": []
    },
    {
      "cell_type": "code",
      "metadata": {
        "id": "Bi5IDHqnkJnH"
      },
      "source": [
        "clock = Clock()\n",
        "light = Light()\n",
        "speaker = Speaker()\n",
        "\n",
        "mediator = HomeMediator(clock,light,speaker)\n",
        "\n",
        "clock.setMediator(mediator)\n",
        "light.setMediator(mediator)\n",
        "speaker.setMediator(mediator)\n"
      ],
      "execution_count": 23,
      "outputs": []
    },
    {
      "cell_type": "code",
      "metadata": {
        "id": "fboDfUMmknou",
        "colab": {
          "base_uri": "https://localhost:8080/"
        },
        "outputId": "34eb1a26-c812-4558-b763-fa88ab6eac43"
      },
      "source": [
        "clock.Alarm()"
      ],
      "execution_count": 24,
      "outputs": [
        {
          "output_type": "stream",
          "name": "stdout",
          "text": [
            "alarm on\n",
            "speaker on\n",
            "light On\n"
          ]
        }
      ]
    },
    {
      "cell_type": "code",
      "metadata": {
        "colab": {
          "base_uri": "https://localhost:8080/"
        },
        "id": "qXwA5slA5-Iw",
        "outputId": "ccebc5e5-8f52-46b1-9b3e-1ab761c211be"
      },
      "source": [
        "light.Off()"
      ],
      "execution_count": 25,
      "outputs": [
        {
          "output_type": "stream",
          "name": "stdout",
          "text": [
            "Light Off\n",
            "speaker Off\n"
          ]
        }
      ]
    },
    {
      "cell_type": "code",
      "metadata": {
        "id": "2epaDlFe6D3V"
      },
      "source": [
        ""
      ],
      "execution_count": null,
      "outputs": []
    }
  ]
}