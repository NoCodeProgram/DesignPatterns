{
  "nbformat": 4,
  "nbformat_minor": 0,
  "metadata": {
    "colab": {
      "name": "commandP.ipynb",
      "provenance": [],
      "collapsed_sections": [],
      "authorship_tag": "ABX9TyNOlaDv6f5ugGdv3bj53YfP",
      "include_colab_link": true
    },
    "kernelspec": {
      "name": "python3",
      "display_name": "Python 3"
    },
    "language_info": {
      "name": "python"
    }
  },
  "cells": [
    {
      "cell_type": "markdown",
      "metadata": {
        "id": "view-in-github",
        "colab_type": "text"
      },
      "source": [
        "<a href=\"https://colab.research.google.com/github/NoCodeProgram/DesignPatterns/blob/main/Behavioral/commandP.ipynb\" target=\"_parent\"><img src=\"https://colab.research.google.com/assets/colab-badge.svg\" alt=\"Open In Colab\"/></a>"
      ]
    },
    {
      "cell_type": "code",
      "metadata": {
        "id": "krxn0N8j5a2u"
      },
      "source": [
        "class Command:\n",
        "  def execute(self):\n",
        "    pass\n",
        "\n",
        "class PrintCommand(Command):\n",
        "  def __init__(self, print_str:str):\n",
        "    self.print_str = print_str\n",
        "  \n",
        "  def execute(self):\n",
        "    print(f\"from print command : {self.print_str}\")"
      ],
      "execution_count": 31,
      "outputs": []
    },
    {
      "cell_type": "code",
      "metadata": {
        "colab": {
          "base_uri": "https://localhost:8080/"
        },
        "id": "UnzovSKtENnZ",
        "outputId": "dcbde088-b669-476c-9605-bc5673774052"
      },
      "source": [
        "first_command = printCommand(\"first command\")\n",
        "second_command = printCommand(\"second command\")\n",
        "\n",
        "first_command.execute()\n",
        "second_command.execute()"
      ],
      "execution_count": 32,
      "outputs": [
        {
          "output_type": "stream",
          "name": "stdout",
          "text": [
            "from print command : first command\n",
            "from print command : second command\n"
          ]
        }
      ]
    },
    {
      "cell_type": "code",
      "metadata": {
        "id": "YpzAfvJWIA89"
      },
      "source": [
        "from typing import List\n",
        "\n",
        "class Dog:\n",
        "  def sit(self):\n",
        "    print(\"The dog sat down\")\n",
        "  def stay(self):\n",
        "    print(\"The dog is staying\")\n",
        "\n",
        "\n",
        "class DogCommand(Command):\n",
        "  #prefer enums\n",
        "  def __init__(self, dog:Dog,commands:List[str]):\n",
        "    self.dog = dog\n",
        "    self.commands = commands\n",
        "  def execute(self):\n",
        "    for command in self.commands:\n",
        "      if command == 'sit':\n",
        "        self.dog.sit()\n",
        "      elif command == 'stay':\n",
        "        self.dog.stay()"
      ],
      "execution_count": 33,
      "outputs": []
    },
    {
      "cell_type": "code",
      "metadata": {
        "colab": {
          "base_uri": "https://localhost:8080/"
        },
        "id": "lL3S2lOAJvq1",
        "outputId": "6041353f-69a9-4952-e237-1877c1452eb4"
      },
      "source": [
        "baduk = Dog()\n",
        "dog_command = DogCommands(baduk,['stay','sit','sit'])\n",
        "dog_command.execute()"
      ],
      "execution_count": 34,
      "outputs": [
        {
          "output_type": "stream",
          "name": "stdout",
          "text": [
            "The dog is staying\n",
            "The dog sat down\n",
            "The dog sat down\n"
          ]
        }
      ]
    },
    {
      "cell_type": "code",
      "metadata": {
        "colab": {
          "base_uri": "https://localhost:8080/"
        },
        "id": "rsP3EJAAA7Dc",
        "outputId": "070fda95-bf13-4d9f-afc3-68ae4ab16e87"
      },
      "source": [
        "class Invoker:\n",
        "  def __init__(self):\n",
        "    self.command_list = []\n",
        "\n",
        "  def addCommand(self, command:Command):\n",
        "    self.command_list.append(command)\n",
        "\n",
        "  def runCommands(self):\n",
        "    for command in self.command_list:\n",
        "      command.execute()\n",
        "\n",
        "invoker = Invoker()\n",
        "invoker.addCommand(firstCommand)\n",
        "invoker.addCommand(dogCommands)\n",
        "invoker.addCommand(secondCommand)\n",
        "invoker.runCommands()"
      ],
      "execution_count": 35,
      "outputs": [
        {
          "output_type": "stream",
          "name": "stdout",
          "text": [
            "from print command : first command\n",
            "The dog is staying\n",
            "The dog sat down\n",
            "The dog sat down\n",
            "from print command : second command\n"
          ]
        }
      ]
    },
    {
      "cell_type": "code",
      "metadata": {
        "id": "UC4QKoYYK670"
      },
      "source": [
        ""
      ],
      "execution_count": null,
      "outputs": []
    }
  ]
}