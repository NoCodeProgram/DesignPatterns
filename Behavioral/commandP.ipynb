{
  "nbformat": 4,
  "nbformat_minor": 0,
  "metadata": {
    "colab": {
      "name": "commandP.ipynb",
      "provenance": [],
      "collapsed_sections": [],
      "authorship_tag": "ABX9TyOb8Q9VnYc1KzYtqdgACG9F",
      "include_colab_link": true
    },
    "kernelspec": {
      "name": "python3",
      "display_name": "Python 3"
    },
    "language_info": {
      "name": "python"
    }
  },
  "cells": [
    {
      "cell_type": "markdown",
      "metadata": {
        "id": "view-in-github",
        "colab_type": "text"
      },
      "source": [
        "<a href=\"https://colab.research.google.com/github/NoCodeProgram/DesignPatterns/blob/main/Behavioral/commandP.ipynb\" target=\"_parent\"><img src=\"https://colab.research.google.com/assets/colab-badge.svg\" alt=\"Open In Colab\"/></a>"
      ]
    },
    {
      "cell_type": "code",
      "metadata": {
        "id": "krxn0N8j5a2u"
      },
      "source": [
        "class Command:\n",
        "  def execute(self):\n",
        "    pass\n",
        "\n",
        "class printCommand(Command):\n",
        "  def __init__(self, print_str:str):\n",
        "    self.print_str = print_str\n",
        "  \n",
        "  def execute(self):\n",
        "    print(f\"from print command : {self.print_str}\")"
      ],
      "execution_count": 26,
      "outputs": []
    },
    {
      "cell_type": "code",
      "metadata": {
        "colab": {
          "base_uri": "https://localhost:8080/"
        },
        "id": "UnzovSKtENnZ",
        "outputId": "d2d4f061-9181-4d85-cae4-83080c8c4035"
      },
      "source": [
        "firstCommand = printCommand(\"first command\")\n",
        "secondCommand = printCommand(\"second command\")\n",
        "\n",
        "firstCommand.execute()\n",
        "secondCommand.execute()"
      ],
      "execution_count": 27,
      "outputs": [
        {
          "output_type": "stream",
          "name": "stdout",
          "text": [
            "from print command : first command\n",
            "from print command : second command\n"
          ]
        }
      ]
    },
    {
      "cell_type": "code",
      "metadata": {
        "id": "YpzAfvJWIA89"
      },
      "source": [
        "from typing import List\n",
        "\n",
        "class Dog:\n",
        "  def sit(self):\n",
        "    print(\"The dog sat down\")\n",
        "  def stay(self):\n",
        "    print(\"The dog is staying\")\n",
        "\n",
        "\n",
        "class DogCommands(Command):\n",
        "  #prefer enums\n",
        "  def __init__(self, dog:Dog,commands:List[str]):\n",
        "    self.dog = dog\n",
        "    self.commands = commands\n",
        "  def execute(self):\n",
        "    for command in self.commands:\n",
        "      if command == 'sit':\n",
        "        self.dog.sit()\n",
        "      elif command == 'stay':\n",
        "        self.dog.stay()"
      ],
      "execution_count": 20,
      "outputs": []
    },
    {
      "cell_type": "code",
      "metadata": {
        "colab": {
          "base_uri": "https://localhost:8080/"
        },
        "id": "lL3S2lOAJvq1",
        "outputId": "d0bcbbed-7c05-41df-fbf3-398e18c21b58"
      },
      "source": [
        "baduk = Dog()\n",
        "dogCommands = DogCommands(baduk,['stay','sit','sit'])\n",
        "dogCommands.execute()"
      ],
      "execution_count": 28,
      "outputs": [
        {
          "output_type": "stream",
          "name": "stdout",
          "text": [
            "The dog is staying\n",
            "The dog sat down\n",
            "The dog sat down\n"
          ]
        }
      ]
    },
    {
      "cell_type": "code",
      "metadata": {
        "colab": {
          "base_uri": "https://localhost:8080/"
        },
        "id": "rsP3EJAAA7Dc",
        "outputId": "e6ea5bb0-0306-42bd-c582-ab7915ca75be"
      },
      "source": [
        "class Invoker:\n",
        "  def __init__(self):\n",
        "    self.command_list = []\n",
        "\n",
        "  def addCommand(self, command:Command):\n",
        "    self.command_list.append(command)\n",
        "\n",
        "  def runCommands(self):\n",
        "    for command in self.command_list:\n",
        "      command.execute()\n",
        "\n",
        "invoker = Invoker()\n",
        "invoker.addCommand(firstCommand)\n",
        "invoker.addCommand(dogCommands)\n",
        "invoker.addCommand(secondCommand)\n",
        "invoker.runCommands()"
      ],
      "execution_count": 30,
      "outputs": [
        {
          "output_type": "stream",
          "name": "stdout",
          "text": [
            "from print command : first command\n",
            "The dog is staying\n",
            "The dog sat down\n",
            "The dog sat down\n",
            "from print command : second command\n"
          ]
        }
      ]
    },
    {
      "cell_type": "code",
      "metadata": {
        "id": "UC4QKoYYK670"
      },
      "source": [
        ""
      ],
      "execution_count": null,
      "outputs": []
    }
  ]
}