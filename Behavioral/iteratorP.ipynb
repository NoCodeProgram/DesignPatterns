{
  "nbformat": 4,
  "nbformat_minor": 0,
  "metadata": {
    "colab": {
      "name": "iteratorP.ipynb",
      "provenance": [],
      "collapsed_sections": [],
      "authorship_tag": "ABX9TyO0c3qWD2N/WT1dENEtLgJv",
      "include_colab_link": true
    },
    "kernelspec": {
      "name": "python3",
      "display_name": "Python 3"
    },
    "language_info": {
      "name": "python"
    }
  },
  "cells": [
    {
      "cell_type": "markdown",
      "metadata": {
        "id": "view-in-github",
        "colab_type": "text"
      },
      "source": [
        "<a href=\"https://colab.research.google.com/github/NoCodeProgram/DesignPatterns/blob/main/Behavioral/iteratorP.ipynb\" target=\"_parent\"><img src=\"https://colab.research.google.com/assets/colab-badge.svg\" alt=\"Open In Colab\"/></a>"
      ]
    },
    {
      "cell_type": "code",
      "metadata": {
        "id": "lWGBEWOFloE-"
      },
      "source": [
        "class Iterator:\n",
        "  def nextVal(self):\n",
        "    pass\n",
        "  def hasNext(self):\n",
        "    pass"
      ],
      "execution_count": 65,
      "outputs": []
    },
    {
      "cell_type": "code",
      "metadata": {
        "id": "3iL7i9K2S2W5"
      },
      "source": [
        "class ArryIterator(Iterator):\n",
        "  def __init__(self,arryContainer):\n",
        "    self.container = arryContainer.container\n",
        "    self.pos = -1\n",
        "\n",
        "  def hasNext(self):\n",
        "    if self.pos<len(self.container)-1:\n",
        "      return True\n",
        "    return False\n",
        "\n",
        "  def nextVal(self):\n",
        "    if self.hasNext():\n",
        "      self.pos += 1\n",
        "      return self.container[self.pos]    \n"
      ],
      "execution_count": 66,
      "outputs": []
    },
    {
      "cell_type": "code",
      "metadata": {
        "id": "mtYyubDWl39z"
      },
      "source": [
        "class ArryRevIterator(Iterator):\n",
        "  def __init__(self,arryContainer):\n",
        "    self.container = arryContainer.container\n",
        "    self.pos = len(self.container)\n",
        "\n",
        "  def hasNext(self):\n",
        "    if -1 < self.pos-1:\n",
        "      return True\n",
        "    return False\n",
        "\n",
        "  def nextVal(self):\n",
        "    if self.hasNext():\n",
        "      self.pos -= 1\n",
        "      return self.container[self.pos]    \n"
      ],
      "execution_count": 71,
      "outputs": []
    },
    {
      "cell_type": "code",
      "metadata": {
        "id": "-_h5obpblvf2"
      },
      "source": [
        "class ArryContainer:\n",
        "  def __init__(self):\n",
        "    self.container = []\n",
        "\n",
        "  def add(self,num:int):\n",
        "    self.container.append(num)\n",
        "  \n",
        "  def getIterator(self):\n",
        "    return ArryIterator(self)\n",
        "\n",
        "  def getRevIterator(self):\n",
        "    return ArryRevIterator(self)\n",
        "  "
      ],
      "execution_count": 72,
      "outputs": []
    },
    {
      "cell_type": "code",
      "metadata": {
        "id": "uEmmItOUmLts"
      },
      "source": [
        "def printByIter(iter):\n",
        "  while iter.hasNext():\n",
        "    print(iter.nextVal(),end=' ')\n",
        "  print(' ')"
      ],
      "execution_count": 73,
      "outputs": []
    },
    {
      "cell_type": "code",
      "metadata": {
        "colab": {
          "base_uri": "https://localhost:8080/"
        },
        "id": "Rqc7ea2CWYHa",
        "outputId": "aa6a822d-b5eb-433c-cb82-ec737424dfbf"
      },
      "source": [
        "arry_container = ArryContainer()\n",
        "arry_container.add(1)\n",
        "arry_container.add(3)\n",
        "arry_container.add(5)\n",
        "iterator = arry_container.getIterator()\n",
        "\n",
        "printByIter(iterator)\n",
        "printByIter(arry_container.getRevIterator())\n"
      ],
      "execution_count": 74,
      "outputs": [
        {
          "output_type": "stream",
          "name": "stdout",
          "text": [
            "1 3 5  \n",
            "5 3 1  \n"
          ]
        }
      ]
    },
    {
      "cell_type": "code",
      "metadata": {
        "id": "g0G_h-uxi8Vt"
      },
      "source": [
        ""
      ],
      "execution_count": 74,
      "outputs": []
    }
  ]
}