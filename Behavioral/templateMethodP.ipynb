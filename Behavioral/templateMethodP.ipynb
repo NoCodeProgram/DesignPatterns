{
  "nbformat": 4,
  "nbformat_minor": 0,
  "metadata": {
    "colab": {
      "name": "templateMethodP.ipynb",
      "provenance": [],
      "authorship_tag": "ABX9TyPmDLT29l6XHbEipmaLz+q1",
      "include_colab_link": true
    },
    "kernelspec": {
      "name": "python3",
      "display_name": "Python 3"
    },
    "language_info": {
      "name": "python"
    }
  },
  "cells": [
    {
      "cell_type": "markdown",
      "metadata": {
        "id": "view-in-github",
        "colab_type": "text"
      },
      "source": [
        "<a href=\"https://colab.research.google.com/github/NoCodeProgram/DesignPatterns/blob/main/Behavioral/templateMethodP.ipynb\" target=\"_parent\"><img src=\"https://colab.research.google.com/assets/colab-badge.svg\" alt=\"Open In Colab\"/></a>"
      ]
    },
    {
      "cell_type": "code",
      "metadata": {
        "id": "ApHjXOVJHhSl"
      },
      "source": [
        "class BasicRamenRecipe:\n",
        "  def cookRamen(self):\n",
        "    self.boilWater()\n",
        "    self.addRamen()\n",
        "    self.addons()\n",
        "    self.wait()\n",
        "\n",
        "  def boilWater(self):\n",
        "    print(\"boil 550ml of water\")\n",
        "  def addRamen(self):\n",
        "    print(\"add noodles, soup Base, flakes\")\n",
        "  def addons(self):\n",
        "    pass\n",
        "  def wait(self):\n",
        "    print(\"cook for 4min 30s\")"
      ],
      "execution_count": 1,
      "outputs": []
    },
    {
      "cell_type": "code",
      "metadata": {
        "colab": {
          "base_uri": "https://localhost:8080/"
        },
        "id": "fX1rFVledBRl",
        "outputId": "bae77fd0-050b-4d82-cf43-65f21dc17706"
      },
      "source": [
        "basicRecipe = BasicRamenRecipe()\n",
        "basicRecipe.cookRamen()"
      ],
      "execution_count": 2,
      "outputs": [
        {
          "output_type": "stream",
          "name": "stdout",
          "text": [
            "boil 550ml of water\n",
            "add noodles, soup Base, flakes\n",
            "cook for 4min 30s\n"
          ]
        }
      ]
    },
    {
      "cell_type": "code",
      "metadata": {
        "id": "vhsF4rm-K-F4"
      },
      "source": [
        "class NocopeRecipe(BasicRamenRecipe):\n",
        "  def addons(self):\n",
        "    print(\"add onions\")\n"
      ],
      "execution_count": 3,
      "outputs": []
    },
    {
      "cell_type": "code",
      "metadata": {
        "id": "PTvRP_UEcRIT"
      },
      "source": [
        "class GrandmaRecipe(BasicRamenRecipe):\n",
        "  def boilWater(self):\n",
        "    print(\"boil 1000ml of water\")\n",
        "  def wait(self):\n",
        "    print(\"cook for 10m\")"
      ],
      "execution_count": 4,
      "outputs": []
    },
    {
      "cell_type": "code",
      "metadata": {
        "colab": {
          "base_uri": "https://localhost:8080/"
        },
        "id": "5KMMO3c2LcTs",
        "outputId": "63c03deb-12fc-444a-8d33-528bd14a32a4"
      },
      "source": [
        "nocopeRecipe = NocopeRecipe()\n",
        "nocopeRecipe.cookRamen()"
      ],
      "execution_count": 5,
      "outputs": [
        {
          "output_type": "stream",
          "name": "stdout",
          "text": [
            "boil 550ml of water\n",
            "add noodles, soup Base, flakes\n",
            "add onions\n",
            "cook for 4min 30s\n"
          ]
        }
      ]
    },
    {
      "cell_type": "code",
      "metadata": {
        "colab": {
          "base_uri": "https://localhost:8080/"
        },
        "id": "vtmiFe_VLfC5",
        "outputId": "35453699-26b5-4346-8cb0-3cc9f61330ac"
      },
      "source": [
        "granmaRecipe = GrandmaRecipe()\n",
        "granmaRecipe.cookRamen()"
      ],
      "execution_count": 6,
      "outputs": [
        {
          "output_type": "stream",
          "name": "stdout",
          "text": [
            "boil 1000ml of water\n",
            "add noodles, soup Base, flakes\n",
            "cook for 10m\n"
          ]
        }
      ]
    },
    {
      "cell_type": "code",
      "metadata": {
        "id": "vygwfPV2c1Sy"
      },
      "source": [
        ""
      ],
      "execution_count": 6,
      "outputs": []
    }
  ]
}