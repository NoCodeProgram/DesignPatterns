{
  "nbformat": 4,
  "nbformat_minor": 0,
  "metadata": {
    "colab": {
      "name": "strategyP.ipynb",
      "provenance": [],
      "collapsed_sections": [],
      "authorship_tag": "ABX9TyMgKEnYJkt2OAgLQIqi7saD",
      "include_colab_link": true
    },
    "kernelspec": {
      "name": "python3",
      "display_name": "Python 3"
    },
    "language_info": {
      "name": "python"
    }
  },
  "cells": [
    {
      "cell_type": "markdown",
      "metadata": {
        "id": "view-in-github",
        "colab_type": "text"
      },
      "source": [
        "<a href=\"https://colab.research.google.com/github/NoCodeProgram/DesignPatterns/blob/main/Behavioral/strategyP.ipynb\" target=\"_parent\"><img src=\"https://colab.research.google.com/assets/colab-badge.svg\" alt=\"Open In Colab\"/></a>"
      ]
    },
    {
      "cell_type": "code",
      "metadata": {
        "id": "KaT-1mITwumJ"
      },
      "source": [
        "class Animal:\n",
        "  def speak(self):\n",
        "    pass\n",
        "\n",
        "class Cat(Animal):\n",
        "  def speak(self):\n",
        "    print(\"meow\")\n",
        "\n",
        "class Lion(Animal):\n",
        "  def speak(self):\n",
        "    print(\"roar\")\n",
        "\n",
        "def makeSpeak(animal:Animal):\n",
        "  animal.speak()\n"
      ],
      "execution_count": 21,
      "outputs": []
    },
    {
      "cell_type": "code",
      "metadata": {
        "id": "YrdJuiDL0kA7"
      },
      "source": [
        "def createAnimal(input_str:str)->Animal:\n",
        "  if input_str == \"cat\":\n",
        "    return Cat()\n",
        "  elif input_str == \"lion\":\n",
        "    return Lion()"
      ],
      "execution_count": 22,
      "outputs": []
    },
    {
      "cell_type": "code",
      "metadata": {
        "colab": {
          "base_uri": "https://localhost:8080/"
        },
        "id": "VtWjbIIlw3ka",
        "outputId": "490598a5-6f07-457f-ebd4-86d98f8ce216"
      },
      "source": [
        "input_str = input('choose animal: ')\n",
        "\n",
        "animal = createAnimal(input_str)\n",
        "makeSpeak(animal)\n",
        "\n",
        "\n"
      ],
      "execution_count": 20,
      "outputs": [
        {
          "output_type": "stream",
          "name": "stdout",
          "text": [
            "choose animal: lion\n",
            "roar\n"
          ]
        }
      ]
    }
  ]
}