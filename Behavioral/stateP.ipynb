{
  "nbformat": 4,
  "nbformat_minor": 0,
  "metadata": {
    "colab": {
      "name": "stateP.ipynb",
      "provenance": [],
      "collapsed_sections": [],
      "authorship_tag": "ABX9TyMROb0RA7pIhuULFqySHhr+",
      "include_colab_link": true
    },
    "kernelspec": {
      "name": "python3",
      "display_name": "Python 3"
    },
    "language_info": {
      "name": "python"
    }
  },
  "cells": [
    {
      "cell_type": "markdown",
      "metadata": {
        "id": "view-in-github",
        "colab_type": "text"
      },
      "source": [
        "<a href=\"https://colab.research.google.com/github/NoCodeProgram/DesignPatterns/blob/main/Behavioral/stateP.ipynb\" target=\"_parent\"><img src=\"https://colab.research.google.com/assets/colab-badge.svg\" alt=\"Open In Colab\"/></a>"
      ]
    },
    {
      "cell_type": "code",
      "metadata": {
        "id": "zdAATne7bNna"
      },
      "source": [
        "class TrafficLight:\n",
        "  def __init__(self):\n",
        "    self.state = 'green'\n",
        "\n",
        "  # prefer enum\n",
        "  def setState(self,state:str):\n",
        "    self.state = state\n",
        "  \n",
        "  def speak(self):\n",
        "    if self.state == 'green':\n",
        "      print('green light')\n",
        "    elif self.state == 'red':\n",
        "      print('red light')\n",
        "\n",
        "  def wait(self):\n",
        "    print('wait.. the light changed')\n",
        "    if self.state == 'green':\n",
        "      self.state = 'red'\n",
        "    elif self.state == 'red':\n",
        "      self.state = 'green'\n",
        "\n"
      ],
      "execution_count": 46,
      "outputs": []
    },
    {
      "cell_type": "code",
      "metadata": {
        "colab": {
          "base_uri": "https://localhost:8080/"
        },
        "id": "hsEu5otyqXUp",
        "outputId": "f53ee0e3-f3c8-40bf-aef0-456541ee8181"
      },
      "source": [
        "t_light = TrafficLight()\n",
        "t_light.speak()\n",
        "t_light.wait()\n",
        "t_light.speak()"
      ],
      "execution_count": 47,
      "outputs": [
        {
          "output_type": "stream",
          "name": "stdout",
          "text": [
            "green light\n",
            "wait.. the light changed\n",
            "red light\n"
          ]
        }
      ]
    },
    {
      "cell_type": "code",
      "metadata": {
        "id": "gaMqxIjOqdGW"
      },
      "source": [
        "class TrafficLight:\n",
        "  def __init__(self):\n",
        "    self.state = GreenLight()\n",
        "\n",
        "  def setState(self,state):\n",
        "    self.state = state\n",
        "  \n",
        "  def speak(self):\n",
        "    self.state.status()\n",
        "\n",
        "  def wait(self):\n",
        "    self.state.changeLight(self)\n"
      ],
      "execution_count": 48,
      "outputs": []
    },
    {
      "cell_type": "code",
      "metadata": {
        "id": "Ce77HxeyquDT"
      },
      "source": [
        "class State:\n",
        "  def status(self):\n",
        "    pass\n",
        "  def changeLight(self,traffic_light:TrafficLight):\n",
        "    pass\n",
        "\n",
        "\n",
        "class GreenLight(State):\n",
        "  def status(self):\n",
        "    print('green light')\n",
        "\n",
        "  def changeLight(self,traffic_light:TrafficLight):\n",
        "    print('wait.. the light changed')\n",
        "    traffic_light.setState(RedLight())\n",
        "  \n",
        "\n",
        "class RedLight(State):\n",
        "  def status(self):\n",
        "    print('red light')\n",
        "\n",
        "  def changeLight(self,traffic_light:TrafficLight):\n",
        "    print('wait.. the light changed')\n",
        "    traffic_light.setState(GreenLight())\n",
        "  \n"
      ],
      "execution_count": 49,
      "outputs": []
    },
    {
      "cell_type": "code",
      "metadata": {
        "colab": {
          "base_uri": "https://localhost:8080/"
        },
        "id": "RXmy_VedsgAU",
        "outputId": "2120123b-56f7-4edb-cba7-de514cef3951"
      },
      "source": [
        "t_light = TrafficLight()\n",
        "t_light.speak()\n",
        "t_light.wait()\n",
        "t_light.speak()"
      ],
      "execution_count": 50,
      "outputs": [
        {
          "output_type": "stream",
          "name": "stdout",
          "text": [
            "green light\n",
            "wait.. the light changed\n",
            "red light\n"
          ]
        }
      ]
    },
    {
      "cell_type": "code",
      "metadata": {
        "id": "Wa_XXSGeskf_"
      },
      "source": [
        ""
      ],
      "execution_count": null,
      "outputs": []
    }
  ]
}