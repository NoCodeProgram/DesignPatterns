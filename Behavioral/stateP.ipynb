{
  "nbformat": 4,
  "nbformat_minor": 0,
  "metadata": {
    "colab": {
      "name": "stateP.ipynb",
      "provenance": [],
      "collapsed_sections": [],
      "authorship_tag": "ABX9TyO40WFG9DWpcA1ySe1Szl7A",
      "include_colab_link": true
    },
    "kernelspec": {
      "name": "python3",
      "display_name": "Python 3"
    },
    "language_info": {
      "name": "python"
    }
  },
  "cells": [
    {
      "cell_type": "markdown",
      "metadata": {
        "id": "view-in-github",
        "colab_type": "text"
      },
      "source": [
        "<a href=\"https://colab.research.google.com/github/NoCodeProgram/DesignPatterns/blob/main/Behavioral/stateP.ipynb\" target=\"_parent\"><img src=\"https://colab.research.google.com/assets/colab-badge.svg\" alt=\"Open In Colab\"/></a>"
      ]
    },
    {
      "cell_type": "code",
      "metadata": {
        "id": "02GEY7DlCWNy"
      },
      "source": [
        "class Cat:\n",
        "  def setState(self,state):\n",
        "    self.state = state\n",
        "\n",
        "  def awake(self):\n",
        "    self.state.awake(self)\n",
        "\n",
        "  def eat(self,menu:str):\n",
        "    self.state.eat(self,menu)\n",
        "\n",
        "  def play(self,event:str):\n",
        "    self.state.play(event)\n",
        "\n",
        "  "
      ],
      "execution_count": 26,
      "outputs": []
    },
    {
      "cell_type": "code",
      "metadata": {
        "id": "AVNwJiTCYids"
      },
      "source": [
        "class State:\n",
        "  def awake(self,cat:Cat):\n",
        "    pass\n",
        "  def eat(self,cat:Cat,menu:str):\n",
        "    pass\n",
        "  def play(self,event:str):\n",
        "    pass\n",
        "\n",
        "class Sleeping(State):\n",
        "  def awake(self,cat:Cat):\n",
        "    cat.setState(Awaken())\n",
        "    print('I am up')\n",
        "\n",
        "  def eat(self,cat:Cat,menu:str):\n",
        "    print('I am sleeping, I cannot eat')\n",
        "\n",
        "  def play(self, event:str):\n",
        "    print('I am sleeping, I cannot play')\n",
        "\n",
        "  \n",
        "\n",
        "class Awaken(State):\n",
        "  def awake(self,cat:Cat):\n",
        "    print('I am already up')\n",
        "\n",
        "  def eat(self,cat:Cat,menu:str):\n",
        "    print(f'I am eating {menu}')\n",
        "    if menu == 'dinner':\n",
        "      cat.setState(Sleeping())\n",
        "      print('I am going to sleep, good night')\n",
        "\n",
        "  def play(self, event:str):\n",
        "    print(f'I am playing {event}')\n",
        "\n",
        "\n"
      ],
      "execution_count": 29,
      "outputs": []
    },
    {
      "cell_type": "code",
      "metadata": {
        "colab": {
          "base_uri": "https://localhost:8080/"
        },
        "id": "6wkOpmu_aLZU",
        "outputId": "09976377-c69d-475c-e3fe-b8dcfcaab530"
      },
      "source": [
        "cat = Cat()\n",
        "cat.setState(Awaken())\n",
        "cat.play('tennis')\n",
        "cat.awake()\n",
        "cat.eat('lunch')\n",
        "cat.eat('dinner')\n",
        "\n",
        "cat.play('game')\n",
        "cat.eat('breakfast')\n",
        "cat.awake()"
      ],
      "execution_count": 30,
      "outputs": [
        {
          "output_type": "stream",
          "name": "stdout",
          "text": [
            "I am playing tennis\n",
            "I am already up\n",
            "I am eating lunch\n",
            "I am eating dinner\n",
            "I am going to sleep, good night\n",
            "I am sleeping, I cannot play\n",
            "I am sleeping, I cannot eat\n",
            "I am up\n"
          ]
        }
      ]
    },
    {
      "cell_type": "code",
      "metadata": {
        "id": "zdAATne7bNna"
      },
      "source": [
        ""
      ],
      "execution_count": 14,
      "outputs": []
    }
  ]
}