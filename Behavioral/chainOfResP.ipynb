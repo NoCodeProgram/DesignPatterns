{
  "nbformat": 4,
  "nbformat_minor": 0,
  "metadata": {
    "colab": {
      "name": "chainOfResP.ipynb",
      "provenance": [],
      "collapsed_sections": [],
      "authorship_tag": "ABX9TyMc6vNXCHsCcB6tbhBo3QON",
      "include_colab_link": true
    },
    "kernelspec": {
      "name": "python3",
      "display_name": "Python 3"
    },
    "language_info": {
      "name": "python"
    }
  },
  "cells": [
    {
      "cell_type": "markdown",
      "metadata": {
        "id": "view-in-github",
        "colab_type": "text"
      },
      "source": [
        "<a href=\"https://colab.research.google.com/github/NoCodeProgram/DesignPatterns/blob/main/Behavioral/chainOfResP.ipynb\" target=\"_parent\"><img src=\"https://colab.research.google.com/assets/colab-badge.svg\" alt=\"Open In Colab\"/></a>"
      ]
    },
    {
      "cell_type": "code",
      "metadata": {
        "id": "hTqURc5ylvCm"
      },
      "source": [
        "class Handler:\n",
        "  def __init__(self):\n",
        "    self.next_handler = None\n",
        "  def setNext(self,handler):\n",
        "    self.next_handler = handler\n",
        "  def handle(self,req):\n",
        "    if self.next_handler:\n",
        "      return self.next_handler.handle(req)\n",
        "    print(\"All handlers failed\")\n",
        "    return None\n",
        "       "
      ],
      "execution_count": 21,
      "outputs": []
    },
    {
      "cell_type": "code",
      "metadata": {
        "id": "_s0OFAcmott9"
      },
      "source": [
        "class CashHandler(Handler):\n",
        "  def handle(self,req):\n",
        "    if req['method'] == 'cash':\n",
        "      print(f\"processing cash {req['amount']} won\")\n",
        "    else:\n",
        "      print(f\"CashHandler cannot process\")\n",
        "      super().handle(req)\n",
        "\n",
        "class CreditCardHandler(Handler):\n",
        "  def handle(self,req):\n",
        "    if req['method'] == 'creditCard':\n",
        "      print(f\"processing creditCard {req['amount']} won\")\n",
        "    else:\n",
        "      print(f\"CreditCardHandler cannot process\")\n",
        "      super().handle(req)\n",
        "\n",
        "class DebitCardHandler(Handler):\n",
        "  def handle(self,req):\n",
        "    if req['method'] == 'debitCard':\n",
        "      print(f\"processing debitCard {req['amount']} won\")\n",
        "    else:\n",
        "      print(f\"DebitCardHandler cannot process\")\n",
        "      super().handle(req)\n"
      ],
      "execution_count": 22,
      "outputs": []
    },
    {
      "cell_type": "code",
      "metadata": {
        "colab": {
          "base_uri": "https://localhost:8080/"
        },
        "id": "etZrf2wM3hwz",
        "outputId": "19f35591-1d8e-4ee8-988c-46d8832f6f42"
      },
      "source": [
        "cash_handler = CashHandler()\n",
        "creditcard_handler = CreditCardHandler()\n",
        "debitcard_handler = DebitCardHandler()\n",
        "\n",
        "cash_handler.setNext(creditcard_handler)\n",
        "creditcard_handler.setNext(debitcard_handler)\n",
        "\n",
        "payment = {\n",
        "  \"method\": \"paypal\",\n",
        "  \"amount\": 10000\n",
        "}\n",
        "\n",
        "cash_handler.handle(payment)"
      ],
      "execution_count": 23,
      "outputs": [
        {
          "output_type": "stream",
          "name": "stdout",
          "text": [
            "CashHandler cannot process\n",
            "CreditCardHandler cannot process\n",
            "DebitCardHandler cannot process\n",
            "All handlers failed\n"
          ]
        }
      ]
    },
    {
      "cell_type": "code",
      "metadata": {
        "id": "3mkXgCS_4KCY"
      },
      "source": [
        ""
      ],
      "execution_count": null,
      "outputs": []
    }
  ]
}