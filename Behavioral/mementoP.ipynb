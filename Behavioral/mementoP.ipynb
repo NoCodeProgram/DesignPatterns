{
  "nbformat": 4,
  "nbformat_minor": 0,
  "metadata": {
    "colab": {
      "name": "mementoP.ipynb",
      "provenance": [],
      "authorship_tag": "ABX9TyO2w9tOUuQzk03n6oGOf+Fz",
      "include_colab_link": true
    },
    "kernelspec": {
      "name": "python3",
      "display_name": "Python 3"
    },
    "language_info": {
      "name": "python"
    }
  },
  "cells": [
    {
      "cell_type": "markdown",
      "metadata": {
        "id": "view-in-github",
        "colab_type": "text"
      },
      "source": [
        "<a href=\"https://colab.research.google.com/github/NoCodeProgram/DesignPatterns/blob/main/Behavioral/mementoP.ipynb\" target=\"_parent\"><img src=\"https://colab.research.google.com/assets/colab-badge.svg\" alt=\"Open In Colab\"/></a>"
      ]
    },
    {
      "cell_type": "code",
      "metadata": {
        "id": "9q3iNIbSMXRT"
      },
      "source": [
        "class Cat:\n",
        "  def __init__(self,age,height):\n",
        "    self.age = age\n",
        "    self.height = height\n",
        "\n",
        "  def speak(self):\n",
        "    print(f'{self.age}year old, {self.height}cm, meow')\n",
        "  \n",
        "  def createMemento(self):\n",
        "    cat_memento = CatMemento(self.age,self.height)\n",
        "    return cat_memento\n",
        "\n",
        "  def restore(self,memento):\n",
        "    self.age = memento.age\n",
        "    self.height = memento.height\n"
      ],
      "execution_count": 24,
      "outputs": []
    },
    {
      "cell_type": "code",
      "metadata": {
        "id": "3J5JotUKM7XD"
      },
      "source": [
        "import uuid\n",
        "from datetime import datetime\n",
        "\n",
        "class CatMemento:\n",
        "  def __init__(self,age,height):\n",
        "    self.uuid = uuid.uuid4()\n",
        "    self.created_time = datetime.now()\n",
        "    self.age = age\n",
        "    self.height = height\n",
        "  \n"
      ],
      "execution_count": 25,
      "outputs": []
    },
    {
      "cell_type": "code",
      "metadata": {
        "colab": {
          "base_uri": "https://localhost:8080/"
        },
        "id": "HYXWZoMPNiEB",
        "outputId": "6c5fb9ff-779d-4e58-b866-eae09ffa3da4"
      },
      "source": [
        "cat_history = []\n",
        "\n",
        "cat = Cat(0,10)\n",
        "cat_history.append(cat.createMemento())\n",
        "\n",
        "cat.age = 1\n",
        "cat.height = 25\n",
        "\n",
        "cat_history.append(cat.createMemento())\n",
        "\n",
        "cat.age = 2\n",
        "cat.height = 50\n",
        "\n",
        "cat_history.append(cat.createMemento())\n",
        "\n",
        "cat.speak()\n",
        "cat.restore(cat_history[0])\n",
        "\n",
        "cat.speak()"
      ],
      "execution_count": 27,
      "outputs": [
        {
          "output_type": "stream",
          "name": "stdout",
          "text": [
            "2year old, 50cm, meow\n",
            "0year old, 10cm, meow\n"
          ]
        }
      ]
    },
    {
      "cell_type": "code",
      "metadata": {
        "id": "2h92IMS2PqHT"
      },
      "source": [
        ""
      ],
      "execution_count": null,
      "outputs": []
    }
  ]
}