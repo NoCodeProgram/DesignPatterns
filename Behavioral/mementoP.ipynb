{
  "nbformat": 4,
  "nbformat_minor": 0,
  "metadata": {
    "colab": {
      "name": "mementoP.ipynb",
      "provenance": [],
      "authorship_tag": "ABX9TyMfKbS4+T728qMPr0HIFIl+",
      "include_colab_link": true
    },
    "kernelspec": {
      "name": "python3",
      "display_name": "Python 3"
    },
    "language_info": {
      "name": "python"
    }
  },
  "cells": [
    {
      "cell_type": "markdown",
      "metadata": {
        "id": "view-in-github",
        "colab_type": "text"
      },
      "source": [
        "<a href=\"https://colab.research.google.com/github/NoCodeProgram/DesignPatterns/blob/main/Behavioral/mementoP.ipynb\" target=\"_parent\"><img src=\"https://colab.research.google.com/assets/colab-badge.svg\" alt=\"Open In Colab\"/></a>"
      ]
    },
    {
      "cell_type": "code",
      "metadata": {
        "id": "3J5JotUKM7XD"
      },
      "source": [
        "import uuid\n",
        "from datetime import datetime\n",
        "\n",
        "class CatMemento:\n",
        "  def __init__(self,age,height):\n",
        "    self.uuid = uuid.uuid4()\n",
        "    self.created_time = datetime.now()\n",
        "    self.age = age\n",
        "    self.height = height\n",
        "  \n"
      ],
      "execution_count": 1,
      "outputs": []
    },
    {
      "cell_type": "code",
      "metadata": {
        "id": "9q3iNIbSMXRT"
      },
      "source": [
        "class Cat:\n",
        "  def __init__(self,age,height):\n",
        "    self.age = age\n",
        "    self.height = height\n",
        "\n",
        "  def speak(self):\n",
        "    print(f'{self.age}year old, {self.height}cm, meow')\n",
        "  \n",
        "  def createMemento(self):\n",
        "    cat_memento = CatMemento(self.age,self.height)\n",
        "    return cat_memento\n",
        "\n",
        "  def restore(self,memento):\n",
        "    self.age = memento.age\n",
        "    self.height = memento.height\n"
      ],
      "execution_count": 2,
      "outputs": []
    },
    {
      "cell_type": "code",
      "metadata": {
        "colab": {
          "base_uri": "https://localhost:8080/"
        },
        "id": "HYXWZoMPNiEB",
        "outputId": "979ba958-516b-44cb-9c53-fd7d0c91cee1"
      },
      "source": [
        "cat_history = []\n",
        "\n",
        "cat = Cat(0,10)\n",
        "cat_history.append(cat.createMemento())\n",
        "\n",
        "cat.age = 1\n",
        "cat.height = 25\n",
        "\n",
        "cat_history.append(cat.createMemento())\n",
        "\n",
        "cat.age = 2\n",
        "cat.height = 50\n",
        "\n",
        "cat_history.append(cat.createMemento())\n",
        "\n",
        "cat.speak()\n",
        "cat.restore(cat_history[0])\n",
        "\n",
        "cat.speak()"
      ],
      "execution_count": 3,
      "outputs": [
        {
          "output_type": "stream",
          "name": "stdout",
          "text": [
            "2year old, 50cm, meow\n",
            "0year old, 10cm, meow\n"
          ]
        }
      ]
    },
    {
      "cell_type": "code",
      "metadata": {
        "id": "2h92IMS2PqHT"
      },
      "source": [
        ""
      ],
      "execution_count": null,
      "outputs": []
    }
  ]
}