{
  "nbformat": 4,
  "nbformat_minor": 0,
  "metadata": {
    "colab": {
      "name": "observerP.ipynb",
      "provenance": [],
      "collapsed_sections": [],
      "authorship_tag": "ABX9TyO2Fqc3U+xFILoLGHX0Ndsv",
      "include_colab_link": true
    },
    "kernelspec": {
      "name": "python3",
      "display_name": "Python 3"
    },
    "language_info": {
      "name": "python"
    }
  },
  "cells": [
    {
      "cell_type": "markdown",
      "metadata": {
        "id": "view-in-github",
        "colab_type": "text"
      },
      "source": [
        "<a href=\"https://colab.research.google.com/github/NoCodeProgram/DesignPatterns/blob/main/Behavioral/observerP.ipynb\" target=\"_parent\"><img src=\"https://colab.research.google.com/assets/colab-badge.svg\" alt=\"Open In Colab\"/></a>"
      ]
    },
    {
      "cell_type": "code",
      "metadata": {
        "id": "6NOFfp-_1aKD"
      },
      "source": [
        "class Owner:\n",
        "  def __init__(self):\n",
        "    self.animals = []\n",
        "  def register(self,animal):\n",
        "    self.animals.append(animal)\n",
        "  \n",
        "  def notify(self):\n",
        "    for animal in self.animals:\n",
        "      animal.update()\n",
        "\n"
      ],
      "execution_count": 11,
      "outputs": []
    },
    {
      "cell_type": "code",
      "metadata": {
        "id": "3_CHT63g3CST"
      },
      "source": [
        "class Observer:\n",
        "  def update(self):\n",
        "    pass\n",
        "\n",
        "class Cat(Observer):\n",
        "  def update(self):\n",
        "    print('meow')\n",
        "\n",
        "class Dog(Observer):\n",
        "  def update(self):\n",
        "    print('bark')\n"
      ],
      "execution_count": 12,
      "outputs": []
    },
    {
      "cell_type": "code",
      "metadata": {
        "colab": {
          "base_uri": "https://localhost:8080/"
        },
        "id": "KViQ18XQ3PHM",
        "outputId": "58e8c334-f85c-4f25-c185-f2697728acab"
      },
      "source": [
        "owner = Owner()\n",
        "cat = Cat()\n",
        "dog = Dog()\n",
        "\n",
        "owner.register(cat)\n",
        "owner.register(dog)\n",
        "\n",
        "owner.notify()"
      ],
      "execution_count": 13,
      "outputs": [
        {
          "output_type": "stream",
          "name": "stdout",
          "text": [
            "meow\n",
            "bark\n"
          ]
        }
      ]
    },
    {
      "cell_type": "code",
      "metadata": {
        "id": "J1YF3H2h3ZnC"
      },
      "source": [
        ""
      ],
      "execution_count": null,
      "outputs": []
    }
  ]
}