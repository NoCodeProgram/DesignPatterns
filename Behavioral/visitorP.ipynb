{
  "nbformat": 4,
  "nbformat_minor": 0,
  "metadata": {
    "colab": {
      "name": "visitorP.ipynb",
      "provenance": [],
      "collapsed_sections": [],
      "authorship_tag": "ABX9TyP0TGfEDv6Vq1WvJhJLK70A",
      "include_colab_link": true
    },
    "kernelspec": {
      "name": "python3",
      "display_name": "Python 3"
    },
    "language_info": {
      "name": "python"
    }
  },
  "cells": [
    {
      "cell_type": "markdown",
      "metadata": {
        "id": "view-in-github",
        "colab_type": "text"
      },
      "source": [
        "<a href=\"https://colab.research.google.com/github/NoCodeProgram/DesignPatterns/blob/main/Behavioral/visitorP.ipynb\" target=\"_parent\"><img src=\"https://colab.research.google.com/assets/colab-badge.svg\" alt=\"Open In Colab\"/></a>"
      ]
    },
    {
      "cell_type": "code",
      "metadata": {
        "id": "xej3A0yMyQ3-"
      },
      "source": [
        "class Visitor:\n",
        "  def visit(self,elem):\n",
        "    pass\n",
        "\n",
        "class NameVisitor(Visitor):\n",
        "  def visit(self,elem):\n",
        "    print(elem.name)\n",
        "\n",
        "class AgeVisitor(Visitor):\n",
        "  def visit(self,elem):\n",
        "    print(elem.age)\n",
        "\n",
        "\n",
        "class Cat:\n",
        "  def __init__(self,name,age):\n",
        "    self.name = name\n",
        "    self.age = age\n",
        "\n",
        "  def speak(self):\n",
        "    print(\"meow\")\n",
        "\n",
        "  def accept(self,visitor:Visitor):\n",
        "    print(\"use implementation of visitor\")\n",
        "    visitor.visit(self)\n"
      ],
      "execution_count": 6,
      "outputs": []
    },
    {
      "cell_type": "code",
      "metadata": {
        "id": "ZeS4Km_wPKPN"
      },
      "source": [
        "kitty = Cat(\"kitty\",3)\n",
        "kitty.speak()\n",
        "\n",
        "name_visitor = NameVisitor()\n",
        "kitty.accept(name_visitor)\n",
        "\n",
        "age_visitor = AgeVisitor()\n",
        "kitty.accept(age_visitor)"
      ],
      "execution_count": null,
      "outputs": []
    },
    {
      "cell_type": "code",
      "metadata": {
        "id": "tqgl9gIfucTG"
      },
      "source": [
        "class AnimalVisitor:\n",
        "  def catVisit(self,elem):\n",
        "    pass\n",
        "  def dogVisit(self,elem):\n",
        "    pass\n",
        "\n",
        "class SpeakVisitor(AnimalVisitor):\n",
        "  def catVisit(self,elem):\n",
        "    print(\"meow~\")\n",
        "  def dogVisit(self,elem):\n",
        "    print(\"bark!\")\n",
        "\n",
        "class NameVisitor(AnimalVisitor):\n",
        "  def catVisit(self,elem):\n",
        "    print(f\"cat, {elem.name}\")\n",
        "  def dogVisit(self,elem):\n",
        "    print(f\"dog, {elem.name}\")\n",
        "\n",
        "class Animal:\n",
        "  def __init__(self,name:str):\n",
        "    self.name = name\n",
        "  def accept(self,visitor:AnimalVisitor):\n",
        "    pass\n",
        "\n",
        "class Cat(Animal):\n",
        "  def accept(self,visitor:AnimalVisitor):\n",
        "    visitor.catVisit(self)\n",
        "\n",
        "class Dog(Animal):\n",
        "  def accept(self,visitor:AnimalVisitor):\n",
        "    visitor.dogVisit(self)"
      ],
      "execution_count": 11,
      "outputs": []
    },
    {
      "cell_type": "code",
      "metadata": {
        "colab": {
          "base_uri": "https://localhost:8080/"
        },
        "id": "ChI6QYRcPIdC",
        "outputId": "833ac7f3-390b-45b3-db57-be6c2071a200"
      },
      "source": [
        "baduk = Dog('baduk')\n",
        "kitty = Cat('kitty')\n",
        "\n",
        "baduk.accept(NameVisitor())\n",
        "kitty.accept(NameVisitor())\n",
        "\n",
        "baduk.accept(SpeakVisitor())\n",
        "kitty.accept(SpeakVisitor())"
      ],
      "execution_count": 13,
      "outputs": [
        {
          "output_type": "stream",
          "name": "stdout",
          "text": [
            "dog, baduk\n",
            "cat, kitty\n",
            "bark!\n",
            "meow~\n"
          ]
        }
      ]
    },
    {
      "cell_type": "code",
      "metadata": {
        "id": "iuhINoxMPQkf"
      },
      "source": [
        ""
      ],
      "execution_count": null,
      "outputs": []
    }
  ]
}