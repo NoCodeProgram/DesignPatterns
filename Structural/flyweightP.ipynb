{
  "nbformat": 4,
  "nbformat_minor": 0,
  "metadata": {
    "colab": {
      "name": "flyweightP.ipynb",
      "provenance": [],
      "collapsed_sections": [],
      "authorship_tag": "ABX9TyMK3aEwM1YKXQGGgF2sIads",
      "include_colab_link": true
    },
    "kernelspec": {
      "name": "python3",
      "display_name": "Python 3"
    },
    "language_info": {
      "name": "python"
    }
  },
  "cells": [
    {
      "cell_type": "markdown",
      "metadata": {
        "id": "view-in-github",
        "colab_type": "text"
      },
      "source": [
        "<a href=\"https://colab.research.google.com/github/NoCodeProgram/DesignPatterns/blob/main/Structural/flyweightP.ipynb\" target=\"_parent\"><img src=\"https://colab.research.google.com/assets/colab-badge.svg\" alt=\"Open In Colab\"/></a>"
      ]
    },
    {
      "cell_type": "code",
      "metadata": {
        "colab": {
          "base_uri": "https://localhost:8080/"
        },
        "id": "6CEJNlUXKgtJ",
        "outputId": "02016e27-1397-4ac0-ef01-2908cff9b182"
      },
      "source": [
        "class Dog:\n",
        "  def __init__(self,name,age,gender,breed,DNA):\n",
        "    self.name = name       #<20bytes ,upto 20 chars\n",
        "    self.age = age         #8bytes   ,64bit integer\n",
        "    self.gender = gender   #1byte    \n",
        "    self.breed = breed     #2bytes   ,upto 65k breeds\n",
        "    self.DNA = DNA   #MBytes\n",
        "\n",
        "  def __repr__(self):\n",
        "    return f'{self.name},{self.age},{self.DNA}'\n",
        "\n",
        "choco = Dog('choco',2,'male','shihTzu','ATAGGCTTACCGATGG...')\n",
        "baduk = Dog('baduk',3,'female','jinDo','ATAGGCTTACCGATGG...')\n",
        "\n",
        "print(choco)\n",
        "print(baduk)"
      ],
      "execution_count": 21,
      "outputs": [
        {
          "output_type": "stream",
          "name": "stdout",
          "text": [
            "choco,2,ATAGGCTTACCGATGG...\n",
            "baduk,3,ATAGGCTTACCGATGG...\n"
          ]
        }
      ]
    },
    {
      "cell_type": "code",
      "metadata": {
        "colab": {
          "base_uri": "https://localhost:8080/"
        },
        "id": "OMrWLHNkKvs-",
        "outputId": "7293db7f-cfba-4de2-80cc-d4c79e530afb"
      },
      "source": [
        "class Dog:\n",
        "  DNAseq = \"ATAGGCTTACCGATGG....\"\n",
        "  def __init__(self,name,age,gender,breed):\n",
        "    self.name = name       #<20bytes ,upto 20 chars\n",
        "    self.age = age         #8bytes   ,64bit integer\n",
        "    self.gender = gender   #1byte    \n",
        "    self.breed = breed     #2bytes   ,upto 65k breeds\n",
        "\n",
        "  def __repr__(self):\n",
        "    return f'{self.name},{self.age},{Dog.DNAseq}'\n",
        "\n",
        "\n",
        "choco = Dog('choco',2,'male','shihTzu')\n",
        "baduk = Dog('baduk',3,'female','jinDo')\n",
        "\n",
        "print(choco)\n",
        "print(baduk)\n"
      ],
      "execution_count": 26,
      "outputs": [
        {
          "output_type": "stream",
          "name": "stdout",
          "text": [
            "choco,2,ATAGGCTTACCGATGG....\n",
            "baduk,3,ATAGGCTTACCGATGG....\n"
          ]
        }
      ]
    },
    {
      "cell_type": "code",
      "metadata": {
        "id": "Ji_eQPNUOOju"
      },
      "source": [
        "class DogBreedDNA:\n",
        "  def __init__(self,breed,DNA):\n",
        "    self.breed = breed\n",
        "    self.DNA = DNA\n",
        "  def __repr__(self):\n",
        "    return f'{self.DNA}'\n",
        "\n",
        "class Dog:\n",
        "  DNA_Table = {}  #{key,DogBreedDNA}\n",
        "  @staticmethod\n",
        "  def addDNA(breed,DNA):\n",
        "    breed_DNA = DogBreedDNA(breed,DNA)\n",
        "    Dog.DNA_Table[breed] = breed_DNA\n",
        "\n",
        "  def __init__(self,name,age,gender,breed):\n",
        "    self.name = name\n",
        "    self.age = age\n",
        "    self.gender = gender\n",
        "    self.breed = breed\n",
        "    if breed not in Dog.DNA_Table:\n",
        "      raise RuntimeError(f\"{breed} is not in DNA_Table\")\n",
        "\n",
        "  def __repr__(self):\n",
        "    return f'{self.name},{self.age},{Dog.DNA_Table[self.breed]}'\n"
      ],
      "execution_count": 32,
      "outputs": []
    },
    {
      "cell_type": "code",
      "metadata": {
        "colab": {
          "base_uri": "https://localhost:8080/"
        },
        "id": "zqdkLYI_TVrt",
        "outputId": "1a46807b-9cb5-4709-fe0a-570bbef55985"
      },
      "source": [
        "Dog.addDNA('shihTzu','ATAGGCTTACCGATGG...')\n",
        "Dog.addDNA('jinDo','ATAGGCTTACCGATGA...')\n",
        "\n",
        "choco = Dog('choco',2,'male','shihTzu')\n",
        "baduk = Dog('baduk',3,'female','jinDo')\n",
        "\n",
        "print(choco)\n",
        "print(baduk)\n",
        "\n"
      ],
      "execution_count": 33,
      "outputs": [
        {
          "output_type": "stream",
          "name": "stdout",
          "text": [
            "choco,2,ATAGGCTTACCGATGG...\n",
            "baduk,3,ATAGGCTTACCGATGA...\n"
          ]
        }
      ]
    },
    {
      "cell_type": "code",
      "metadata": {
        "colab": {
          "base_uri": "https://localhost:8080/",
          "height": 287
        },
        "id": "wKv0KLoJUK7s",
        "outputId": "73cd4edd-3fab-4972-a1d2-39ef8c623ef0"
      },
      "source": [
        "bbobbi = Dog('bbobbi',1,'female','shiba')"
      ],
      "execution_count": 34,
      "outputs": [
        {
          "output_type": "error",
          "ename": "RuntimeError",
          "evalue": "ignored",
          "traceback": [
            "\u001b[0;31m---------------------------------------------------------------------------\u001b[0m",
            "\u001b[0;31mRuntimeError\u001b[0m                              Traceback (most recent call last)",
            "\u001b[0;32m<ipython-input-34-e301b9e75211>\u001b[0m in \u001b[0;36m<module>\u001b[0;34m()\u001b[0m\n\u001b[0;32m----> 1\u001b[0;31m \u001b[0mbbobbi\u001b[0m \u001b[0;34m=\u001b[0m \u001b[0mDog\u001b[0m\u001b[0;34m(\u001b[0m\u001b[0;34m'bbobbi'\u001b[0m\u001b[0;34m,\u001b[0m\u001b[0;36m1\u001b[0m\u001b[0;34m,\u001b[0m\u001b[0;34m'female'\u001b[0m\u001b[0;34m,\u001b[0m\u001b[0;34m'shiba'\u001b[0m\u001b[0;34m)\u001b[0m\u001b[0;34m\u001b[0m\u001b[0;34m\u001b[0m\u001b[0m\n\u001b[0m",
            "\u001b[0;32m<ipython-input-32-e63efbb45611>\u001b[0m in \u001b[0;36m__init__\u001b[0;34m(self, name, age, gender, breed)\u001b[0m\n\u001b[1;32m     20\u001b[0m     \u001b[0mself\u001b[0m\u001b[0;34m.\u001b[0m\u001b[0mbreed\u001b[0m \u001b[0;34m=\u001b[0m \u001b[0mbreed\u001b[0m\u001b[0;34m\u001b[0m\u001b[0;34m\u001b[0m\u001b[0m\n\u001b[1;32m     21\u001b[0m     \u001b[0;32mif\u001b[0m \u001b[0mbreed\u001b[0m \u001b[0;32mnot\u001b[0m \u001b[0;32min\u001b[0m \u001b[0mDog\u001b[0m\u001b[0;34m.\u001b[0m\u001b[0mDNA_Table\u001b[0m\u001b[0;34m:\u001b[0m\u001b[0;34m\u001b[0m\u001b[0;34m\u001b[0m\u001b[0m\n\u001b[0;32m---> 22\u001b[0;31m       \u001b[0;32mraise\u001b[0m \u001b[0mRuntimeError\u001b[0m\u001b[0;34m(\u001b[0m\u001b[0;34mf\"{breed} is not in DNA_Table\"\u001b[0m\u001b[0;34m)\u001b[0m\u001b[0;34m\u001b[0m\u001b[0;34m\u001b[0m\u001b[0m\n\u001b[0m\u001b[1;32m     23\u001b[0m \u001b[0;34m\u001b[0m\u001b[0m\n\u001b[1;32m     24\u001b[0m   \u001b[0;32mdef\u001b[0m \u001b[0m__repr__\u001b[0m\u001b[0;34m(\u001b[0m\u001b[0mself\u001b[0m\u001b[0;34m)\u001b[0m\u001b[0;34m:\u001b[0m\u001b[0;34m\u001b[0m\u001b[0;34m\u001b[0m\u001b[0m\n",
            "\u001b[0;31mRuntimeError\u001b[0m: shiba is not in DNA_Table"
          ]
        }
      ]
    },
    {
      "cell_type": "code",
      "metadata": {
        "id": "fZrdzlVgVAOT"
      },
      "source": [
        ""
      ],
      "execution_count": null,
      "outputs": []
    }
  ]
}