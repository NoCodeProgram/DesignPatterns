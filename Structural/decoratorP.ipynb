{
  "nbformat": 4,
  "nbformat_minor": 0,
  "metadata": {
    "colab": {
      "name": "decoratorP.ipynb",
      "provenance": [],
      "collapsed_sections": [],
      "authorship_tag": "ABX9TyOJBLByz7SqJJdgP+zlzfTm",
      "include_colab_link": true
    },
    "kernelspec": {
      "name": "python3",
      "display_name": "Python 3"
    },
    "language_info": {
      "name": "python"
    }
  },
  "cells": [
    {
      "cell_type": "markdown",
      "metadata": {
        "id": "view-in-github",
        "colab_type": "text"
      },
      "source": [
        "<a href=\"https://colab.research.google.com/github/NoCodeProgram/DesignPatterns/blob/main/Structural/decoratorP.ipynb\" target=\"_parent\"><img src=\"https://colab.research.google.com/assets/colab-badge.svg\" alt=\"Open In Colab\"/></a>"
      ]
    },
    {
      "cell_type": "code",
      "metadata": {
        "id": "pdc59go2Pe5Y"
      },
      "source": [
        "class Animal:\n",
        "  def speak(self):\n",
        "    pass\n",
        "\n",
        "class Cat:\n",
        "  def speak(self):\n",
        "    print(\"meow\", end='')\n",
        "\n",
        "class Dog:\n",
        "  def speak(self):\n",
        "    print(\"bark\", end='')\n",
        "\n",
        "def makeSpeak(animal:Animal):\n",
        "  animal.speak()\n",
        "  print(\" \")"
      ],
      "execution_count": 15,
      "outputs": []
    },
    {
      "cell_type": "code",
      "metadata": {
        "id": "Zz5tGIc6gCF8"
      },
      "source": [
        "class Deco(Animal):\n",
        "  def __init__(self,animal:Animal):\n",
        "    self.animal = animal\n",
        "  def speak(self):\n",
        "    self.animal.speak()\n",
        "\n",
        "class WthSmile(Deco):\n",
        "  def speak(self):\n",
        "    self.animal.speak()\n",
        "    print(\"😀\",end='')\n",
        "\n",
        "class WthHeartEyes(Deco):\n",
        "  def speak(self):\n",
        "    self.animal.speak()\n",
        "    print(\"😍\",end='')\n"
      ],
      "execution_count": 16,
      "outputs": []
    },
    {
      "cell_type": "code",
      "metadata": {
        "id": "GsbIY0kVUsGF",
        "colab": {
          "base_uri": "https://localhost:8080/"
        },
        "outputId": "7913cf67-805e-46dd-bc89-ec12faaa050e"
      },
      "source": [
        "kitty = Cat()\n",
        "makeSpeak(kitty)\n",
        "kitty_smile = WthSmile(kitty)\n",
        "makeSpeak(kitty_smile)\n",
        "kitty_smile_heart = WthHeartEyes(kitty_smile)\n",
        "makeSpeak(kitty_smile_heart)"
      ],
      "execution_count": 17,
      "outputs": [
        {
          "output_type": "stream",
          "name": "stdout",
          "text": [
            "meow \n",
            "meow😀 \n",
            "meow😀😍 \n"
          ]
        }
      ]
    },
    {
      "cell_type": "code",
      "metadata": {
        "colab": {
          "base_uri": "https://localhost:8080/"
        },
        "id": "XX48jBPehgas",
        "outputId": "ed79daf5-46fb-477f-b77b-8e7f49308d96"
      },
      "source": [
        "dog = Dog()\n",
        "makeSpeak(dog)\n",
        "dog_heart = WthHeartEyes(dog)\n",
        "makeSpeak(dog_heart)\n",
        "dog_heart_smile = WthSmile(dog_heart)\n",
        "makeSpeak(dog_heart_smile)"
      ],
      "execution_count": 21,
      "outputs": [
        {
          "output_type": "stream",
          "name": "stdout",
          "text": [
            "bark \n",
            "bark😍 \n",
            "bark😍😀 \n"
          ]
        }
      ]
    },
    {
      "cell_type": "code",
      "metadata": {
        "id": "jMQ6BMxYiCnv"
      },
      "source": [
        ""
      ],
      "execution_count": null,
      "outputs": []
    }
  ]
}