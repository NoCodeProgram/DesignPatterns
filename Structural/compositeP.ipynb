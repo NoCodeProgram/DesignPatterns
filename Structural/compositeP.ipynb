{
  "nbformat": 4,
  "nbformat_minor": 0,
  "metadata": {
    "colab": {
      "name": "compositeP.ipynb",
      "provenance": [],
      "authorship_tag": "ABX9TyMzQ0S/oH6qbpQQBbMQ/OVB",
      "include_colab_link": true
    },
    "kernelspec": {
      "name": "python3",
      "display_name": "Python 3"
    },
    "language_info": {
      "name": "python"
    }
  },
  "cells": [
    {
      "cell_type": "markdown",
      "metadata": {
        "id": "view-in-github",
        "colab_type": "text"
      },
      "source": [
        "<a href=\"https://colab.research.google.com/github/NoCodeProgram/DesignPatterns/blob/main/Structural/compositeP.ipynb\" target=\"_parent\"><img src=\"https://colab.research.google.com/assets/colab-badge.svg\" alt=\"Open In Colab\"/></a>"
      ]
    },
    {
      "cell_type": "code",
      "metadata": {
        "id": "kaBUFhjEjYs2"
      },
      "source": [
        "class Component:\n",
        "  def fn(self):\n",
        "    pass\n",
        "\n",
        "class Leaf(Component):\n",
        "  def fn(self):\n",
        "    print('leaf')\n",
        "\n",
        "class Composite(Component):\n",
        "  def __init__(self):\n",
        "    self.components = []\n",
        "  \n",
        "  def add(self, component:Component):\n",
        "    self.components.append(component)\n",
        "\n",
        "  def fn(self):\n",
        "    print('composite')\n",
        "    for component in self.components:\n",
        "      component.fn()\n"
      ],
      "execution_count": 1,
      "outputs": []
    },
    {
      "cell_type": "code",
      "metadata": {
        "colab": {
          "base_uri": "https://localhost:8080/"
        },
        "id": "bn6s_aRnjaq-",
        "outputId": "4abba850-3e2f-4ae2-b0ba-2be17ac30a53"
      },
      "source": [
        "compst1 = Composite()\n",
        "compst1.add(Leaf())\n",
        "compst1.add(Leaf())\n",
        "\n",
        "compst0 = Composite()\n",
        "compst0.add(Leaf())\n",
        "compst0.add(compst1)\n",
        "\n",
        "compst0.fn()"
      ],
      "execution_count": 2,
      "outputs": [
        {
          "output_type": "stream",
          "name": "stdout",
          "text": [
            "composite\n",
            "leaf\n",
            "composite\n",
            "leaf\n",
            "leaf\n"
          ]
        }
      ]
    },
    {
      "cell_type": "code",
      "metadata": {
        "id": "TvCYsoIEjdFy"
      },
      "source": [
        "class Animal:\n",
        "  def speak(self):\n",
        "    pass\n",
        "\n",
        "class Cat(Animal):\n",
        "  def speak(self):\n",
        "    print(\"meow\")\n",
        "\n",
        "class Dog(Animal):\n",
        "  def speak(self):\n",
        "    print(\"bark\")\n",
        "\n",
        "class AnimalGroup(Animal):\n",
        "  def __init__(self):\n",
        "    self.animals = []\n",
        "\n",
        "  def add(self,animal:Animal):\n",
        "    self.animals.append(animal)\n",
        "\n",
        "  def speak(self):\n",
        "    print(\"group speaking..\")\n",
        "    for animal in self.animals:\n",
        "      animal.speak()\n"
      ],
      "execution_count": 3,
      "outputs": []
    },
    {
      "cell_type": "code",
      "metadata": {
        "colab": {
          "base_uri": "https://localhost:8080/"
        },
        "id": "dH8p1irGjeEf",
        "outputId": "792a2f83-bc3e-4c05-da00-922cec5c61dd"
      },
      "source": [
        "cat_group = AnimalGroup()\n",
        "cat_group.add(Cat())\n",
        "cat_group.add(Cat())\n",
        "cat_group.add(Cat())\n",
        "\n",
        "dog_group = AnimalGroup()\n",
        "dog_group.add(Dog())\n",
        "dog_group.add(Dog())\n",
        "\n",
        "zoo = AnimalGroup()\n",
        "zoo.add(cat_group)\n",
        "zoo.add(dog_group)\n",
        "\n",
        "zoo.speak()"
      ],
      "execution_count": 4,
      "outputs": [
        {
          "output_type": "stream",
          "name": "stdout",
          "text": [
            "group speaking..\n",
            "group speaking..\n",
            "meow\n",
            "meow\n",
            "meow\n",
            "group speaking..\n",
            "bark\n",
            "bark\n"
          ]
        }
      ]
    },
    {
      "cell_type": "code",
      "metadata": {
        "id": "NGG38dxhjfHd"
      },
      "source": [
        ""
      ],
      "execution_count": null,
      "outputs": []
    }
  ]
}