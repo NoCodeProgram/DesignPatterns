{
  "nbformat": 4,
  "nbformat_minor": 0,
  "metadata": {
    "colab": {
      "name": "adapterP.ipynb",
      "provenance": [],
      "authorship_tag": "ABX9TyMXhArhvtDbfLsjrXIdx5i8",
      "include_colab_link": true
    },
    "kernelspec": {
      "name": "python3",
      "display_name": "Python 3"
    },
    "language_info": {
      "name": "python"
    }
  },
  "cells": [
    {
      "cell_type": "markdown",
      "metadata": {
        "id": "view-in-github",
        "colab_type": "text"
      },
      "source": [
        "<a href=\"https://colab.research.google.com/github/NoCodeProgram/DesignPatterns/blob/main/Structural/adapterP.ipynb\" target=\"_parent\"><img src=\"https://colab.research.google.com/assets/colab-badge.svg\" alt=\"Open In Colab\"/></a>"
      ]
    },
    {
      "cell_type": "code",
      "metadata": {
        "colab": {
          "base_uri": "https://localhost:8080/"
        },
        "id": "Ds1eFUgdBCPx",
        "outputId": "182e4d93-3c4a-4a57-8a10-7060be355ca3"
      },
      "source": [
        "class Animal:     #interface class\n",
        "  def walk(self):\n",
        "    pass\n",
        "\n",
        "class Cat(Animal):\n",
        "  def walk(self):\n",
        "    print(\"cat walking\")\n",
        "\n",
        "class Dog(Animal):\n",
        "  def walk(self):\n",
        "    print(\"dog walking\")\n",
        "\n",
        "def makeWalk(animal : Animal):\n",
        "  animal.walk()\n",
        "\n",
        "kitty = Cat()\n",
        "bingo = Dog()\n",
        "\n",
        "makeWalk(kitty)\n",
        "makeWalk(bingo)"
      ],
      "execution_count": 4,
      "outputs": [
        {
          "output_type": "stream",
          "text": [
            "cat walking\n",
            "dog walking\n"
          ],
          "name": "stdout"
        }
      ]
    },
    {
      "cell_type": "code",
      "metadata": {
        "colab": {
          "base_uri": "https://localhost:8080/",
          "height": 322
        },
        "id": "Qrec8_DrBDit",
        "outputId": "93941286-79d4-44e6-cf5c-04381c1eb219"
      },
      "source": [
        "class Fish:    #fish doesn't have a run method\n",
        "  def swim(self):\n",
        "    print(\"fish swimming\")\n",
        "\n",
        "nemo = Fish()\n",
        "\n",
        "makeWalk(nemo)  #nemo cannot walk"
      ],
      "execution_count": 5,
      "outputs": [
        {
          "output_type": "error",
          "ename": "AttributeError",
          "evalue": "ignored",
          "traceback": [
            "\u001b[0;31m---------------------------------------------------------------------------\u001b[0m",
            "\u001b[0;31mAttributeError\u001b[0m                            Traceback (most recent call last)",
            "\u001b[0;32m<ipython-input-5-a48f164cf39c>\u001b[0m in \u001b[0;36m<module>\u001b[0;34m()\u001b[0m\n\u001b[1;32m      5\u001b[0m \u001b[0mnemo\u001b[0m \u001b[0;34m=\u001b[0m \u001b[0mFish\u001b[0m\u001b[0;34m(\u001b[0m\u001b[0;34m)\u001b[0m\u001b[0;34m\u001b[0m\u001b[0;34m\u001b[0m\u001b[0m\n\u001b[1;32m      6\u001b[0m \u001b[0;34m\u001b[0m\u001b[0m\n\u001b[0;32m----> 7\u001b[0;31m \u001b[0mmakeWalk\u001b[0m\u001b[0;34m(\u001b[0m\u001b[0mnemo\u001b[0m\u001b[0;34m)\u001b[0m  \u001b[0;31m#nemo cannot walk\u001b[0m\u001b[0;34m\u001b[0m\u001b[0;34m\u001b[0m\u001b[0m\n\u001b[0m",
            "\u001b[0;32m<ipython-input-4-cfddd896bf16>\u001b[0m in \u001b[0;36mmakeWalk\u001b[0;34m(animal)\u001b[0m\n\u001b[1;32m     12\u001b[0m \u001b[0;34m\u001b[0m\u001b[0m\n\u001b[1;32m     13\u001b[0m \u001b[0;32mdef\u001b[0m \u001b[0mmakeWalk\u001b[0m\u001b[0;34m(\u001b[0m\u001b[0manimal\u001b[0m \u001b[0;34m:\u001b[0m \u001b[0mAnimal\u001b[0m\u001b[0;34m)\u001b[0m\u001b[0;34m:\u001b[0m\u001b[0;34m\u001b[0m\u001b[0;34m\u001b[0m\u001b[0m\n\u001b[0;32m---> 14\u001b[0;31m   \u001b[0manimal\u001b[0m\u001b[0;34m.\u001b[0m\u001b[0mwalk\u001b[0m\u001b[0;34m(\u001b[0m\u001b[0;34m)\u001b[0m\u001b[0;34m\u001b[0m\u001b[0;34m\u001b[0m\u001b[0m\n\u001b[0m\u001b[1;32m     15\u001b[0m \u001b[0;34m\u001b[0m\u001b[0m\n\u001b[1;32m     16\u001b[0m \u001b[0mkitty\u001b[0m \u001b[0;34m=\u001b[0m \u001b[0mCat\u001b[0m\u001b[0;34m(\u001b[0m\u001b[0;34m)\u001b[0m\u001b[0;34m\u001b[0m\u001b[0;34m\u001b[0m\u001b[0m\n",
            "\u001b[0;31mAttributeError\u001b[0m: 'Fish' object has no attribute 'walk'"
          ]
        }
      ]
    },
    {
      "cell_type": "code",
      "metadata": {
        "colab": {
          "base_uri": "https://localhost:8080/"
        },
        "id": "ZjJXnrq4BDe5",
        "outputId": "dcae7841-1609-4183-fd92-889e26f95b9e"
      },
      "source": [
        "class FishAdapter(Animal):\n",
        "  def __init__(self,fish:Fish):\n",
        "    self.fish = fish\n",
        "  \n",
        "  def walk(self):\n",
        "    self.fish.swim()\n",
        "\n",
        "adapted_nemo = FishAdapter(nemo)\n",
        "makeWalk(adapted_nemo)"
      ],
      "execution_count": 6,
      "outputs": [
        {
          "output_type": "stream",
          "text": [
            "fish swimming\n"
          ],
          "name": "stdout"
        }
      ]
    },
    {
      "cell_type": "code",
      "metadata": {
        "id": "nAGtSsD5Nk-Q"
      },
      "source": [
        ""
      ],
      "execution_count": null,
      "outputs": []
    }
  ]
}