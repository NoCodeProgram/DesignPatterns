{
  "nbformat": 4,
  "nbformat_minor": 0,
  "metadata": {
    "colab": {
      "name": "proxyP.ipynb",
      "provenance": [],
      "collapsed_sections": [],
      "authorship_tag": "ABX9TyNUZPNF1RgJC1fXOo4wf3A8",
      "include_colab_link": true
    },
    "kernelspec": {
      "name": "python3",
      "display_name": "Python 3"
    },
    "language_info": {
      "name": "python"
    }
  },
  "cells": [
    {
      "cell_type": "markdown",
      "metadata": {
        "id": "view-in-github",
        "colab_type": "text"
      },
      "source": [
        "<a href=\"https://colab.research.google.com/github/NoCodeProgram/DesignPatterns/blob/main/Structural/proxyP.ipynb\" target=\"_parent\"><img src=\"https://colab.research.google.com/assets/colab-badge.svg\" alt=\"Open In Colab\"/></a>"
      ]
    },
    {
      "cell_type": "code",
      "metadata": {
        "colab": {
          "base_uri": "https://localhost:8080/"
        },
        "id": "uReaUtc3Ibdc",
        "outputId": "5c8a2e3f-8ece-4204-c4c6-b753bf64fddd"
      },
      "source": [
        "class Cat:\n",
        "  def speak(self):\n",
        "    print(\"meow\")\n",
        "\n",
        "\n",
        "kitty = Cat()\n",
        "kitty.speak()"
      ],
      "execution_count": 2,
      "outputs": [
        {
          "output_type": "stream",
          "text": [
            "meow\n"
          ],
          "name": "stdout"
        }
      ]
    },
    {
      "cell_type": "code",
      "metadata": {
        "colab": {
          "base_uri": "https://localhost:8080/"
        },
        "id": "NZjA-o-PNvJa",
        "outputId": "5dc0d6f3-7d45-48a2-8198-c6b65b8e9bf5"
      },
      "source": [
        "class CatProxy:\n",
        "  def __init__(self, cat:Cat):\n",
        "    self.cat = cat\n",
        "\n",
        "  def speak(self):\n",
        "    print(\"before speak\") #validity checks,lazy init, more\n",
        "    self.cat.speak()\n",
        "    print(\"after speak\") #loggings\n",
        "\n",
        "kitty_proxy = CatProxy(kitty)\n",
        "kitty_proxy.speak()\n"
      ],
      "execution_count": 5,
      "outputs": [
        {
          "output_type": "stream",
          "text": [
            "before speak\n",
            "meow\n",
            "after speak\n"
          ],
          "name": "stdout"
        }
      ]
    },
    {
      "cell_type": "code",
      "metadata": {
        "colab": {
          "base_uri": "https://localhost:8080/"
        },
        "id": "Uom4Lr1DPkue",
        "outputId": "c909415f-886b-4398-e3b4-adbe04e645fa"
      },
      "source": [
        "class Animal: #interface class\n",
        "  def speak(self):  \n",
        "    pass\n",
        "\n",
        "class Cat(Animal):\n",
        "  def speak(self):\n",
        "    print(\"meow\")\n",
        "\n",
        "class CatProxy(Animal):\n",
        "  def __init__(self, cat:Cat):\n",
        "    self.cat = cat\n",
        "\n",
        "  def speak(self):\n",
        "    print(\"before speak\")\n",
        "    self.cat.speak()\n",
        "    print(\"after speak\")\n",
        "\n",
        "def doSpeak(animal:Animal):\n",
        "  animal.speak()\n",
        "\n",
        "kitty = Cat()\n",
        "kitty_proxy = CatProxy(kitty)\n",
        "doSpeak(kitty_proxy)\n"
      ],
      "execution_count": 7,
      "outputs": [
        {
          "output_type": "stream",
          "text": [
            "before speak\n",
            "meow\n",
            "after speak\n"
          ],
          "name": "stdout"
        }
      ]
    },
    {
      "cell_type": "code",
      "metadata": {
        "id": "ApKXLwx3Qmdk"
      },
      "source": [
        ""
      ],
      "execution_count": null,
      "outputs": []
    }
  ]
}