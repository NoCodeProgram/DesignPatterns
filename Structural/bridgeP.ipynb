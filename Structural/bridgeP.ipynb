{
  "nbformat": 4,
  "nbformat_minor": 0,
  "metadata": {
    "colab": {
      "name": "bridgeP.ipynb",
      "provenance": [],
      "authorship_tag": "ABX9TyMIblhV0s+zhAgOaYfBJq/u",
      "include_colab_link": true
    },
    "kernelspec": {
      "name": "python3",
      "display_name": "Python 3"
    },
    "language_info": {
      "name": "python"
    }
  },
  "cells": [
    {
      "cell_type": "markdown",
      "metadata": {
        "id": "view-in-github",
        "colab_type": "text"
      },
      "source": [
        "<a href=\"https://colab.research.google.com/github/NoCodeProgram/DesignPatterns/blob/main/Structural/bridgeP.ipynb\" target=\"_parent\"><img src=\"https://colab.research.google.com/assets/colab-badge.svg\" alt=\"Open In Colab\"/></a>"
      ]
    },
    {
      "cell_type": "code",
      "metadata": {
        "id": "ZfXMKp8GfzR3"
      },
      "source": [
        "class Animal:\n",
        "  def speak(self):\n",
        "    pass\n",
        "\n",
        "class Cat(Animal):\n",
        "  def speak(self):\n",
        "    print('a cat ',end='')\n",
        "\n",
        "class Dog(Animal):\n",
        "  def speak(self):\n",
        "    print('a dog ',end='')\n"
      ],
      "execution_count": 7,
      "outputs": []
    },
    {
      "cell_type": "code",
      "metadata": {
        "id": "urr-rNUaj30i"
      },
      "source": [
        "class Vehicle:\n",
        "  def __init__(self,animal:Animal):\n",
        "    self.animal = animal\n",
        "\n",
        "  def start(self):\n",
        "    pass\n",
        "\n",
        "class Car(Vehicle):\n",
        "  def start(self):\n",
        "    self.animal.speak()\n",
        "    print('drives a car')\n",
        "\n",
        "class Boat(Vehicle):\n",
        "  def start(self):\n",
        "    self.animal.speak()\n",
        "    print('sails a boat')\n",
        "\n",
        "class Airplane(Vehicle):\n",
        "  def start(self):\n",
        "    self.animal.speak()\n",
        "    print('flies a plane')\n",
        "    \n"
      ],
      "execution_count": 8,
      "outputs": []
    },
    {
      "cell_type": "code",
      "metadata": {
        "colab": {
          "base_uri": "https://localhost:8080/"
        },
        "id": "dik4f1hKlV8j",
        "outputId": "53b6ea5b-1db7-4acf-a079-c264affe512f"
      },
      "source": [
        "cat = Cat()\n",
        "boat = Boat(cat)\n",
        "boat.start()"
      ],
      "execution_count": 9,
      "outputs": [
        {
          "output_type": "stream",
          "name": "stdout",
          "text": [
            "a cat sails a boat\n"
          ]
        }
      ]
    },
    {
      "cell_type": "code",
      "metadata": {
        "colab": {
          "base_uri": "https://localhost:8080/"
        },
        "id": "gatKOeGklbka",
        "outputId": "4fdd5c95-b99d-46d8-afc3-cad28547b881"
      },
      "source": [
        "dog = Dog()\n",
        "car = Car(dog)\n",
        "car.start()"
      ],
      "execution_count": 10,
      "outputs": [
        {
          "output_type": "stream",
          "name": "stdout",
          "text": [
            "a dog drives a car\n"
          ]
        }
      ]
    },
    {
      "cell_type": "markdown",
      "metadata": {
        "id": "1jxB_if5u-J1"
      },
      "source": [
        "Second example\n"
      ]
    },
    {
      "cell_type": "code",
      "metadata": {
        "colab": {
          "base_uri": "https://localhost:8080/"
        },
        "id": "stC0AQo1ln7R",
        "outputId": "c7ea159d-d475-4865-abee-5f2e25bcff0e"
      },
      "source": [
        "#implementor\n",
        "class Power:\n",
        "  def powerUp(self):\n",
        "    pass\n",
        "  def powerDown(self):\n",
        "    pass\n",
        "\n",
        "class Engine(Power):\n",
        "  def powerUp(self):\n",
        "    print('engine power up')\n",
        "\n",
        "  def powerDown(self):\n",
        "    print('engine power down')\n",
        "\n",
        "class Motor(Power):\n",
        "  def powerUp(self):\n",
        "    print('motor power up')\n",
        "\n",
        "  def powerDown(self):\n",
        "    print('motor power down')\n",
        "\n",
        "#abstaction car\n",
        "class Car:\n",
        "  def __init__(self,power:Power):\n",
        "    self.power = power\n",
        "\n",
        "  def drive(self):\n",
        "    self.power.powerUp()\n",
        "\n",
        "  def stop(self):\n",
        "    self.power.powerDown()\n",
        "\n",
        "class Sedan(Car):\n",
        "  def sedanOnlyFn(self):\n",
        "    print('sedan only')\n",
        "\n",
        "\n",
        "sedan = Sedan(Motor())\n",
        "sedan.drive()\n",
        "sedan.stop()\n",
        "sedan.sedanOnlyFn()"
      ],
      "execution_count": 14,
      "outputs": [
        {
          "output_type": "stream",
          "name": "stdout",
          "text": [
            "motor power up\n",
            "motor power down\n",
            "sedan only\n"
          ]
        }
      ]
    },
    {
      "cell_type": "code",
      "metadata": {
        "id": "DfKZcBoxvGLZ"
      },
      "source": [
        ""
      ],
      "execution_count": null,
      "outputs": []
    }
  ]
}