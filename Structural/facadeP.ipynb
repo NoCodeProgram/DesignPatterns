{
  "nbformat": 4,
  "nbformat_minor": 0,
  "metadata": {
    "colab": {
      "name": "facadeP.ipynb",
      "provenance": [],
      "authorship_tag": "ABX9TyNgbcUTLM+NYRg0KLyRTH/P",
      "include_colab_link": true
    },
    "kernelspec": {
      "name": "python3",
      "display_name": "Python 3"
    },
    "language_info": {
      "name": "python"
    }
  },
  "cells": [
    {
      "cell_type": "markdown",
      "metadata": {
        "id": "view-in-github",
        "colab_type": "text"
      },
      "source": [
        "<a href=\"https://colab.research.google.com/github/NoCodeProgram/DesignPatterns/blob/main/Structural/facadeP.ipynb\" target=\"_parent\"><img src=\"https://colab.research.google.com/assets/colab-badge.svg\" alt=\"Open In Colab\"/></a>"
      ]
    },
    {
      "cell_type": "code",
      "metadata": {
        "id": "6AozADKRf03q"
      },
      "source": [
        "class Stage1:\n",
        "  def ignite(self):\n",
        "    print('1st stage ignition')\n",
        "\n",
        "  def eject(self):\n",
        "    print('1st stage ejection')\n",
        "\n",
        "class Stage2:\n",
        "  def ignite(self):\n",
        "    print('2nd stage ignition')\n",
        "\n",
        "  def eject(self):\n",
        "    print('2nd stage ignition')\n",
        "\n",
        "class Capsule:\n",
        "  def ignite(self):\n",
        "    print('capsule ignition')\n",
        "  \n",
        "  def landing(self):\n",
        "    print('capsule landing/deploy')\n"
      ],
      "execution_count": 1,
      "outputs": []
    },
    {
      "cell_type": "code",
      "metadata": {
        "id": "YXGRE890h6o0"
      },
      "source": [
        "class Rocket:\n",
        "  def __init__(self):\n",
        "    self.stage1 = Stage1()\n",
        "    self.stage2 = Stage2()\n",
        "    self.capsule = Capsule()\n",
        "\n",
        "  def launch(self):\n",
        "    self.stage1.ignite()\n",
        "    self.stage1.eject()\n",
        "    self.stage2.ignite()\n",
        "    self.stage2.eject()\n",
        "    self.capsule.ignite()\n",
        "    self.capsule.landing()"
      ],
      "execution_count": 6,
      "outputs": []
    },
    {
      "cell_type": "code",
      "metadata": {
        "colab": {
          "base_uri": "https://localhost:8080/"
        },
        "id": "TuJTyTyjiNwr",
        "outputId": "6e6e5be0-acef-4a7b-a894-fe5912b444ff"
      },
      "source": [
        "rocket = Rocket()\n",
        "rocket.launch()"
      ],
      "execution_count": 7,
      "outputs": [
        {
          "output_type": "stream",
          "name": "stdout",
          "text": [
            "1st stage ignition\n",
            "1st stage ejection\n",
            "2nd stage ignition\n",
            "2nd stage ignition\n",
            "capsule ignition\n",
            "capsule landing/deploy\n"
          ]
        }
      ]
    },
    {
      "cell_type": "code",
      "metadata": {
        "id": "W6Bu4hD1iPkG"
      },
      "source": [
        ""
      ],
      "execution_count": null,
      "outputs": []
    }
  ]
}