{
  "nbformat": 4,
  "nbformat_minor": 0,
  "metadata": {
    "colab": {
      "name": "facadeP.ipynb",
      "provenance": [],
      "authorship_tag": "ABX9TyO4KtTrxIZ9bH9TvvotfaEm",
      "include_colab_link": true
    },
    "kernelspec": {
      "name": "python3",
      "display_name": "Python 3"
    },
    "language_info": {
      "name": "python"
    }
  },
  "cells": [
    {
      "cell_type": "markdown",
      "metadata": {
        "id": "view-in-github",
        "colab_type": "text"
      },
      "source": [
        "<a href=\"https://colab.research.google.com/github/NoCodeProgram/DesignPatterns/blob/main/Structural/facadeP.ipynb\" target=\"_parent\"><img src=\"https://colab.research.google.com/assets/colab-badge.svg\" alt=\"Open In Colab\"/></a>"
      ]
    },
    {
      "cell_type": "code",
      "metadata": {
        "id": "6AozADKRf03q",
        "colab": {
          "base_uri": "https://localhost:8080/",
          "height": 131
        },
        "outputId": "6e90b5d0-4090-46ec-8544-50bc6bf1db51"
      },
      "source": [
        "class Stage1:\n",
        "  def ignite(self):\n",
        "    print('1st stage ignition')\n",
        "\n",
        "  def eject(self):\n",
        "    print('1st stage ejection')\n",
        "\n",
        "  def return(self):\n",
        "    print('1st stage return')\n",
        "\n",
        "class Stage2:\n",
        "  def ignite(self):\n",
        "    print('2nd stage ignition')\n",
        "\n",
        "  def eject(self):\n",
        "    print('2nd stage ignition')\n",
        "\n",
        "class Capsule:\n",
        "  def ignite(self):\n",
        "    print('capsule ignition')\n",
        "  \n",
        "  def landing(self):\n",
        "    print('capsule landing/deploy')\n"
      ],
      "execution_count": 1,
      "outputs": [
        {
          "output_type": "error",
          "ename": "SyntaxError",
          "evalue": "ignored",
          "traceback": [
            "\u001b[0;36m  File \u001b[0;32m\"<ipython-input-1-547d0c791585>\"\u001b[0;36m, line \u001b[0;32m8\u001b[0m\n\u001b[0;31m    def return(self):\u001b[0m\n\u001b[0m             ^\u001b[0m\n\u001b[0;31mSyntaxError\u001b[0m\u001b[0;31m:\u001b[0m invalid syntax\n"
          ]
        }
      ]
    },
    {
      "cell_type": "code",
      "metadata": {
        "id": "YXGRE890h6o0"
      },
      "source": [
        "class Rocket:\n",
        "  def __init__(self):\n",
        "    self.stage1 = Stage1()\n",
        "    self.stage2 = Stage2()\n",
        "    self.capsule = Capsule()\n",
        "\n",
        "  def launch(self):\n",
        "    self.stage1.ignite()\n",
        "    self.stage1.eject()\n",
        "    self.stage2.ignite()\n",
        "    self.stage1.return()\n",
        "    self.stage2.eject()\n",
        "    self.capsule.ignite()\n",
        "    self.capsule.landing()"
      ],
      "execution_count": null,
      "outputs": []
    },
    {
      "cell_type": "code",
      "metadata": {
        "id": "TuJTyTyjiNwr"
      },
      "source": [
        "rocket = Rocket()\n",
        "rocket.launch()"
      ],
      "execution_count": null,
      "outputs": []
    },
    {
      "cell_type": "code",
      "metadata": {
        "id": "W6Bu4hD1iPkG"
      },
      "source": [
        ""
      ],
      "execution_count": null,
      "outputs": []
    }
  ]
}