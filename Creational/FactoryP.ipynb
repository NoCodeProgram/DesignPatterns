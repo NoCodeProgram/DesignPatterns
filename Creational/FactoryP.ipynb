{
  "nbformat": 4,
  "nbformat_minor": 0,
  "metadata": {
    "colab": {
      "name": "FactoryP.ipynb",
      "provenance": [],
      "collapsed_sections": [],
      "authorship_tag": "ABX9TyOCrvCMZbb8R87MypagpQyL",
      "include_colab_link": true
    },
    "kernelspec": {
      "name": "python3",
      "display_name": "Python 3"
    },
    "language_info": {
      "name": "python"
    }
  },
  "cells": [
    {
      "cell_type": "markdown",
      "metadata": {
        "id": "view-in-github",
        "colab_type": "text"
      },
      "source": [
        "<a href=\"https://colab.research.google.com/github/NoCodeProgram/DesignPatterns/blob/main/Creational/FactoryP.ipynb\" target=\"_parent\"><img src=\"https://colab.research.google.com/assets/colab-badge.svg\" alt=\"Open In Colab\"/></a>"
      ]
    },
    {
      "cell_type": "code",
      "metadata": {
        "id": "7StuplxN53SO"
      },
      "source": [
        "from enum import Enum\n",
        "class AnimalEnum(Enum):\n",
        "  CAT = 1\n",
        "  DOG = 2\n",
        "\n",
        "class Animal():\n",
        "  def speak(self):\n",
        "    pass\n",
        "\n",
        "class Cat(Animal):\n",
        "  def speak(self):\n",
        "    print(\"meow\")\n",
        "\n",
        "class Dog(Animal):\n",
        "  def speak(self):\n",
        "    print(\"bark\")\n"
      ],
      "execution_count": 17,
      "outputs": []
    },
    {
      "cell_type": "code",
      "metadata": {
        "colab": {
          "base_uri": "https://localhost:8080/"
        },
        "id": "1g2A_hn56BEX",
        "outputId": "009983b0-c5bc-4b46-e210-f644a78a96aa"
      },
      "source": [
        "#Factory function\n",
        "#prefer enum\n",
        "def FactoryFn(animal:AnimalEnum):\n",
        "  if animal == AnimalEnum.CAT:\n",
        "    return Cat()\n",
        "  elif animal == AnimalEnum.DOG:\n",
        "    return Dog()\n",
        "\n",
        "\n",
        "cat = FactoryFn(AnimalEnum.CAT)\n",
        "cat.speak()\n",
        "dog = FactoryFn(AnimalEnum.DOG)\n",
        "dog.speak()\n",
        "    "
      ],
      "execution_count": 18,
      "outputs": [
        {
          "output_type": "stream",
          "text": [
            "meow\n",
            "bark\n"
          ],
          "name": "stdout"
        }
      ]
    },
    {
      "cell_type": "code",
      "metadata": {
        "colab": {
          "base_uri": "https://localhost:8080/"
        },
        "id": "6wjcqMM56pdJ",
        "outputId": "25d5a42d-69e1-4291-8aaa-bd193669c485"
      },
      "source": [
        "#Factory class\n",
        "class AnimalFactory():\n",
        "  def createAnimal(self,animal):\n",
        "    if animal == AnimalEnum.CAT:\n",
        "      return Cat()\n",
        "    elif animal == AnimalEnum.DOG:\n",
        "      return Dog()\n",
        "\n",
        "animal_factory = AnimalFactory()\n",
        "cat = animal_factory.createAnimal(AnimalEnum.CAT)\n",
        "cat.speak()\n",
        "dog = animal_factory.createAnimal(AnimalEnum.DOG)\n",
        "dog.speak()\n",
        "    "
      ],
      "execution_count": 20,
      "outputs": [
        {
          "output_type": "stream",
          "text": [
            "meow\n",
            "bark\n"
          ],
          "name": "stdout"
        }
      ]
    },
    {
      "cell_type": "code",
      "metadata": {
        "id": "-BHeHTuu7Hu2"
      },
      "source": [
        ""
      ],
      "execution_count": null,
      "outputs": []
    }
  ]
}