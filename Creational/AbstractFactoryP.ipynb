{
  "nbformat": 4,
  "nbformat_minor": 0,
  "metadata": {
    "colab": {
      "name": "AbstractFactoryP.ipynb",
      "provenance": [],
      "authorship_tag": "ABX9TyMdgxq9q7tJN8Dco/2LyFRd",
      "include_colab_link": true
    },
    "kernelspec": {
      "name": "python3",
      "display_name": "Python 3"
    },
    "language_info": {
      "name": "python"
    }
  },
  "cells": [
    {
      "cell_type": "markdown",
      "metadata": {
        "id": "view-in-github",
        "colab_type": "text"
      },
      "source": [
        "<a href=\"https://colab.research.google.com/github/NoCodeProgram/DesignPatterns/blob/main/Creational/AbstractFactoryP.ipynb\" target=\"_parent\"><img src=\"https://colab.research.google.com/assets/colab-badge.svg\" alt=\"Open In Colab\"/></a>"
      ]
    },
    {
      "cell_type": "code",
      "metadata": {
        "id": "I3we007hkIQW"
      },
      "source": [
        "#Button abstract(interface) and its implementations\n",
        "class Button:\n",
        "  def click(self):\n",
        "    pass\n",
        "\n",
        "class DarkButton(Button):\n",
        "  def click(self):\n",
        "    print(\"dark click\")\n",
        "\n",
        "class LightButton(Button):\n",
        "  def click(self):\n",
        "    print(\"light click\")\n"
      ],
      "execution_count": 1,
      "outputs": []
    },
    {
      "cell_type": "code",
      "metadata": {
        "id": "6dxBNiXclJUr"
      },
      "source": [
        "#Checkbox abstract(interface) and its implementations\n",
        "class CheckBox:\n",
        "  def check(self):\n",
        "    pass\n",
        "\n",
        "class DarkCheckBox(CheckBox):\n",
        "  def check(self):\n",
        "    print(\"dark check\")\n",
        "\n",
        "class LightCheckBox(CheckBox):\n",
        "  def check(self):\n",
        "    print(\"light check\")"
      ],
      "execution_count": 2,
      "outputs": []
    },
    {
      "cell_type": "code",
      "metadata": {
        "id": "s9bzlyi_lb-d"
      },
      "source": [
        "#Scrollbar abstract(interface) and its implementations\n",
        "class ScrollBar:\n",
        "  def scroll(self):\n",
        "    pass\n",
        "\n",
        "class DarkScrollBar(ScrollBar):\n",
        "  def scroll(self):\n",
        "    print(\"dark scroll\")\n",
        "\n",
        "class LightScrollBar(ScrollBar):\n",
        "  def scroll(self):\n",
        "    print(\"light scroll\")"
      ],
      "execution_count": 3,
      "outputs": []
    },
    {
      "cell_type": "code",
      "metadata": {
        "id": "1i4zJkVZlqCp"
      },
      "source": [
        "#UIFactory Abstract(interface) and its implementations\n",
        "class UIFactory:\n",
        "  def getButton(self):\n",
        "    pass\n",
        "  \n",
        "  def getCheckBox(self):\n",
        "    pass\n",
        "\n",
        "  def getScrollBar(self):\n",
        "    pass\n",
        "\n",
        "class DarkUIFactory(UIFactory):\n",
        "  def getButton(self):\n",
        "    return DarkButton()\n",
        "\n",
        "  def getCheckBox(self):\n",
        "    return DarkCheckBox()\n",
        "\n",
        "  def getScrollBar(self):\n",
        "    return DarkScrollBar()\n",
        "\n",
        "class LightUIFactory(UIFactory):\n",
        "  def getButton(self):\n",
        "    return LightButton()\n",
        "\n",
        "  def getCheckBox(self):\n",
        "    return LightCheckBox()\n",
        "\n",
        "  def getScrollBar(self):\n",
        "    return LightScrollBar()"
      ],
      "execution_count": 4,
      "outputs": []
    },
    {
      "cell_type": "code",
      "metadata": {
        "colab": {
          "base_uri": "https://localhost:8080/"
        },
        "id": "uzx5HAu1mJB4",
        "outputId": "0209dab3-21a5-475d-d0f0-8958d2e949a3"
      },
      "source": [
        "#get darkTheme UI components\n",
        "dark_factory = DarkUIFactory()\n",
        "dark_btn = dark_factory.getButton()\n",
        "dark_checkBx = dark_factory.getCheckBox()\n",
        "dark_scrollBar = dark_factory.getScrollBar()\n",
        "\n",
        "dark_btn.click()\n",
        "dark_checkBx.check()\n",
        "dark_scrollBar.scroll()"
      ],
      "execution_count": 5,
      "outputs": [
        {
          "output_type": "stream",
          "text": [
            "dark click\n",
            "dark check\n",
            "dark scroll\n"
          ],
          "name": "stdout"
        }
      ]
    },
    {
      "cell_type": "code",
      "metadata": {
        "colab": {
          "base_uri": "https://localhost:8080/"
        },
        "id": "K3ek2FbwmbJy",
        "outputId": "2125b666-34c8-44f0-c722-9bca4e10e18a"
      },
      "source": [
        "#get lightTheme UI components\n",
        "light_factory = LightUIFactory()\n",
        "light_btn = light_factory.getButton()\n",
        "light_checkBx = light_factory.getCheckBox()\n",
        "light_scrollBar = light_factory.getScrollBar()\n",
        "\n",
        "light_btn.click()\n",
        "light_checkBx.check()\n",
        "light_scrollBar.scroll()"
      ],
      "execution_count": 6,
      "outputs": [
        {
          "output_type": "stream",
          "text": [
            "light click\n",
            "light check\n",
            "light scroll\n"
          ],
          "name": "stdout"
        }
      ]
    },
    {
      "cell_type": "code",
      "metadata": {
        "id": "_fjzcTAVmgu0"
      },
      "source": [
        ""
      ],
      "execution_count": 6,
      "outputs": []
    }
  ]
}