{
  "nbformat": 4,
  "nbformat_minor": 0,
  "metadata": {
    "colab": {
      "name": "prototypeP.ipynb",
      "provenance": [],
      "collapsed_sections": [],
      "authorship_tag": "ABX9TyOLxKFhOfjwAfsrMrej2Ncn",
      "include_colab_link": true
    },
    "kernelspec": {
      "name": "python3",
      "display_name": "Python 3"
    },
    "language_info": {
      "name": "python"
    }
  },
  "cells": [
    {
      "cell_type": "markdown",
      "metadata": {
        "id": "view-in-github",
        "colab_type": "text"
      },
      "source": [
        "<a href=\"https://colab.research.google.com/github/NoCodeProgram/DesignPatterns/blob/main/Creational/prototypeP.ipynb\" target=\"_parent\"><img src=\"https://colab.research.google.com/assets/colab-badge.svg\" alt=\"Open In Colab\"/></a>"
      ]
    },
    {
      "cell_type": "code",
      "metadata": {
        "id": "44A3qUj2Nhoh"
      },
      "source": [
        "#일반적인 Cat class 정의\n",
        "class Cat:\n",
        "  def __init__(self):\n",
        "    self.color = None\n",
        "    self.eye_color = None\n",
        "    self.nose_color = None\n",
        "    self.tail_color = None\n",
        "    self.name = None\n"
      ],
      "execution_count": 15,
      "outputs": []
    },
    {
      "cell_type": "code",
      "metadata": {
        "id": "k7i8mBcUOCuu"
      },
      "source": [
        "#위 클래스를 이용한 같은 object를 만들고 싶을때\n",
        "kitty = Cat()\n",
        "kitty.color = 'white'\n",
        "kitty.eye_color = 'white'\n",
        "kitty.nose_color = 'white'\n",
        "kitty.tail_color = 'white'\n",
        "kitty.name = 'kitty'\n",
        "\n",
        "nabi = Cat()\n",
        "nabi.color = 'white'\n",
        "nabi.eye_color = 'white'\n",
        "nabi.nose_color = 'white'\n",
        "nabi.tail_color = 'white'\n",
        "nabi.name = 'nabi'"
      ],
      "execution_count": 16,
      "outputs": []
    },
    {
      "cell_type": "code",
      "metadata": {
        "id": "myfOUvYNLPe0"
      },
      "source": [
        "#deepcopy(clone) 지원 cat\n",
        "import copy\n",
        "\n",
        "class Cat:\n",
        "  def __init__(self):\n",
        "    self.color = None\n",
        "    self.eye_color = None\n",
        "    self.nose_color = None\n",
        "    self.tail_color = None\n",
        "    self.name = None\n",
        "\n",
        "  def clone(self):\n",
        "    return copy.deepcopy(self)\n"
      ],
      "execution_count": 17,
      "outputs": []
    },
    {
      "cell_type": "code",
      "metadata": {
        "id": "shbvUGHFLiet"
      },
      "source": [
        "cat_basic = Cat()\n",
        "cat_basic.color = 'white'\n",
        "cat_basic.eye_color = 'white'\n",
        "cat_basic.nose_color = 'white'\n",
        "cat_basic.tail_color = 'white'\n",
        "cat_basic.name = 'kitty'\n",
        "\n",
        "kitty = cat_basic.clone()\n",
        "kitty.name = 'kitty'\n",
        "\n",
        "nabi = cat_basic.clone()\n",
        "nabi = 'nabi'\n",
        "\n",
        "#잘못된 복사방법\n",
        "#nabi = kitty"
      ],
      "execution_count": 18,
      "outputs": []
    },
    {
      "cell_type": "code",
      "metadata": {
        "id": "nAe4EuC6LmV7"
      },
      "source": [
        "#abstract structure prototype\n",
        "class BlackCat(Cat):\n",
        "  def __init__(self):\n",
        "    super().__init__()\n",
        "    self.color = 'black'\n",
        "\n",
        "class WhiteCat(Cat):\n",
        "  def __init__(self):\n",
        "    super().__init__()\n",
        "    self.color = 'white'\n",
        "\n",
        "\n",
        "black_cat = BlackCat()\n",
        "black_cat.nose_color = 'pink'\n",
        "black_cat.tail_color = 'green'"
      ],
      "execution_count": 21,
      "outputs": []
    },
    {
      "cell_type": "code",
      "metadata": {
        "id": "6ruvt72-OPK0"
      },
      "source": [
        "#black_cat is prototype\n",
        "kitty = black_cat.clone()\n",
        "kitty.eye_color = 'white'\n",
        "kitty.name = 'kitty'\n",
        "\n",
        "nabi = black_cat.clone()\n",
        "nabi.eye_color = 'blue'\n",
        "nabi.name = 'nabi'"
      ],
      "execution_count": 23,
      "outputs": []
    },
    {
      "cell_type": "code",
      "metadata": {
        "id": "SqTeQXtsSiPS"
      },
      "source": [
        ""
      ],
      "execution_count": null,
      "outputs": []
    }
  ]
}