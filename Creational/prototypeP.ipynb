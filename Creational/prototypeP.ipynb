{
  "nbformat": 4,
  "nbformat_minor": 0,
  "metadata": {
    "colab": {
      "name": "prototypeP.ipynb",
      "provenance": [],
      "collapsed_sections": [],
      "authorship_tag": "ABX9TyO26OKBw3C/GEPl0G1tJ7UH",
      "include_colab_link": true
    },
    "kernelspec": {
      "name": "python3",
      "display_name": "Python 3"
    },
    "language_info": {
      "name": "python"
    }
  },
  "cells": [
    {
      "cell_type": "markdown",
      "metadata": {
        "id": "view-in-github",
        "colab_type": "text"
      },
      "source": [
        "<a href=\"https://colab.research.google.com/github/NoCodeProgram/DesignPatterns/blob/main/Creational/prototypeP.ipynb\" target=\"_parent\"><img src=\"https://colab.research.google.com/assets/colab-badge.svg\" alt=\"Open In Colab\"/></a>"
      ]
    },
    {
      "cell_type": "code",
      "metadata": {
        "colab": {
          "base_uri": "https://localhost:8080/"
        },
        "id": "44A3qUj2Nhoh",
        "outputId": "f67aa1f1-bb3c-4d44-f240-93621c2a98ac"
      },
      "source": [
        "import copy\n",
        "\n",
        "class Cat:\n",
        "  def setName(self,name):\n",
        "    self.name = name\n",
        "  def setAge(self,age):\n",
        "    self.age = age\n",
        "  def speak(self):\n",
        "    print(f'{self.name},{self.age},meow')\n",
        "  def clone(self):\n",
        "    return copy.deepcopy(self)\n",
        "  \n",
        "\n",
        "\n",
        "kitty = Cat()\n",
        "kitty.setAge(10)\n",
        "kitty.setName('kitty')\n",
        "kitty.speak()\n",
        "\n",
        "kitty2 = kitty.clone()\n",
        "kitty2.speak()\n",
        "\n",
        "#just a new ref\n",
        "#kitty_ref = kitty  \n"
      ],
      "execution_count": 14,
      "outputs": [
        {
          "output_type": "stream",
          "text": [
            "kitty,10,meow\n",
            "kitty,10,meow\n"
          ],
          "name": "stdout"
        }
      ]
    },
    {
      "cell_type": "code",
      "metadata": {
        "id": "k7i8mBcUOCuu"
      },
      "source": [
        ""
      ],
      "execution_count": null,
      "outputs": []
    }
  ]
}