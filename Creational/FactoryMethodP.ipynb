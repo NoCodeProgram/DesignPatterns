{
  "nbformat": 4,
  "nbformat_minor": 0,
  "metadata": {
    "colab": {
      "name": "FactoryMethodP.ipynb",
      "provenance": [],
      "collapsed_sections": [],
      "authorship_tag": "ABX9TyPPpoqLC7UdIolfdZtgLhRF",
      "include_colab_link": true
    },
    "kernelspec": {
      "name": "python3",
      "display_name": "Python 3"
    },
    "language_info": {
      "name": "python"
    }
  },
  "cells": [
    {
      "cell_type": "markdown",
      "metadata": {
        "id": "view-in-github",
        "colab_type": "text"
      },
      "source": [
        "<a href=\"https://colab.research.google.com/github/NoCodeProgram/DesignPatterns/blob/main/Creational/FactoryMethodP.ipynb\" target=\"_parent\"><img src=\"https://colab.research.google.com/assets/colab-badge.svg\" alt=\"Open In Colab\"/></a>"
      ]
    },
    {
      "cell_type": "code",
      "metadata": {
        "id": "bgggNsRRUMF-"
      },
      "source": [
        "class Animal():\n",
        "  def speak(self):\n",
        "    pass\n",
        "\n",
        "class Cat(Animal):\n",
        "  def speak(self):\n",
        "    print(\"meow\")\n",
        "\n",
        "class Dog(Animal):\n",
        "  def speak(self):\n",
        "    print(\"bark\")"
      ],
      "execution_count": null,
      "outputs": []
    },
    {
      "cell_type": "markdown",
      "metadata": {
        "id": "8ukp8xfpWv8Z"
      },
      "source": [
        "By abstracting the factory class, we can easily add more animal types such as sheep, cow.\n",
        "Check Open Closed principle"
      ]
    },
    {
      "cell_type": "code",
      "metadata": {
        "colab": {
          "base_uri": "https://localhost:8080/"
        },
        "id": "7wWXYbzxUSke",
        "outputId": "b431d1cc-986c-49d4-e77e-5e320f690546"
      },
      "source": [
        "class AnimalFactory():\n",
        "  def createAnimal(self):\n",
        "    pass\n",
        "\n",
        "class CatFactory(AnimalFactory):\n",
        "  def __init__(self):\n",
        "    self.cat_count = 0\n",
        "  def createAnimal(self):\n",
        "    self.cat_count += 1\n",
        "    return Cat()\n",
        "  def catCount(self):\n",
        "    return self.cat_count\n",
        "\n",
        "\n",
        "class DogManager(AnimalFactory):\n",
        "  def haveDog(self):\n",
        "    self.dog = self.createAnimal()\n",
        "  def createAnimal(self):\n",
        "    return Dog()\n",
        "  def makeWings(self,dog:Dog):\n",
        "    print(\"dog wings added\")\n",
        "    return dog\n",
        "\n",
        "\n",
        "cat_factory = CatFactory()\n",
        "cat = cat_factory.createAnimal()\n",
        "print(f\"{cat_factory.catCount()} cats are created\")\n",
        "\n",
        "dog_manager = DogManager()\n",
        "dog = dog_manager.haveDog()\n",
        "wing_dog = dog_manager.makeWings(dog)"
      ],
      "execution_count": null,
      "outputs": [
        {
          "output_type": "stream",
          "name": "stdout",
          "text": [
            "1 cats are created\n",
            "dog wings added\n"
          ]
        }
      ]
    },
    {
      "cell_type": "code",
      "metadata": {
        "id": "Mdnx134PWVo2"
      },
      "source": [
        ""
      ],
      "execution_count": null,
      "outputs": []
    }
  ]
}