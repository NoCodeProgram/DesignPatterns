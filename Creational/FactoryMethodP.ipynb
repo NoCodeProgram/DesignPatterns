{
  "nbformat": 4,
  "nbformat_minor": 0,
  "metadata": {
    "colab": {
      "name": "FactoryMethodP.ipynb",
      "provenance": [],
      "authorship_tag": "ABX9TyNYpaWwy3lsSCoZK8d1YtTJ",
      "include_colab_link": true
    },
    "kernelspec": {
      "name": "python3",
      "display_name": "Python 3"
    },
    "language_info": {
      "name": "python"
    }
  },
  "cells": [
    {
      "cell_type": "markdown",
      "metadata": {
        "id": "view-in-github",
        "colab_type": "text"
      },
      "source": [
        "<a href=\"https://colab.research.google.com/github/NoCodeProgram/DesignPatterns/blob/main/Creational/FactoryMethodP.ipynb\" target=\"_parent\"><img src=\"https://colab.research.google.com/assets/colab-badge.svg\" alt=\"Open In Colab\"/></a>"
      ]
    },
    {
      "cell_type": "code",
      "metadata": {
        "id": "bgggNsRRUMF-"
      },
      "source": [
        "class Animal():\n",
        "  def speak(self):\n",
        "    pass\n",
        "\n",
        "class Cat(Animal):\n",
        "  def speak(self):\n",
        "    print(\"meow\")\n",
        "\n",
        "class Dog(Animal):\n",
        "  def speak(self):\n",
        "    print(\"bark\")"
      ],
      "execution_count": 1,
      "outputs": []
    },
    {
      "cell_type": "markdown",
      "metadata": {
        "id": "8ukp8xfpWv8Z"
      },
      "source": [
        "By abstracting the factory class, we can easily add more animal types such as sheep, cow.\n",
        "Check Open Closed principle"
      ]
    },
    {
      "cell_type": "code",
      "metadata": {
        "colab": {
          "base_uri": "https://localhost:8080/"
        },
        "id": "7wWXYbzxUSke",
        "outputId": "70ecb6da-eaf3-4b72-b791-02534ebea8de"
      },
      "source": [
        "class AnimalFactory():\n",
        "  def createAnimal(self):\n",
        "    pass\n",
        "\n",
        "class CatFactory(AnimalFactory):\n",
        "  def createAnimal(self):\n",
        "    return Cat()\n",
        "\n",
        "class DogFactory(AnimalFactory):\n",
        "  def createAnimal(self):\n",
        "    return Dog()\n",
        "\n",
        "\n",
        "cat_factory = CatFactory()\n",
        "cat = cat_factory.createAnimal()\n",
        "cat.speak()\n",
        "\n",
        "dog_factory = DogFactory()\n",
        "dog = dog_factory.createAnimal()\n",
        "dog.speak()"
      ],
      "execution_count": 6,
      "outputs": [
        {
          "output_type": "stream",
          "text": [
            "meow\n",
            "bark\n"
          ],
          "name": "stdout"
        }
      ]
    },
    {
      "cell_type": "code",
      "metadata": {
        "id": "Mdnx134PWVo2"
      },
      "source": [
        ""
      ],
      "execution_count": null,
      "outputs": []
    }
  ]
}