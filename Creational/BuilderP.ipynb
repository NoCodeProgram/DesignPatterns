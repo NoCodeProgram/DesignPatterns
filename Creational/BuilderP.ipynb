{
  "nbformat": 4,
  "nbformat_minor": 0,
  "metadata": {
    "colab": {
      "name": "BuilderP.ipynb",
      "provenance": [],
      "collapsed_sections": [],
      "authorship_tag": "ABX9TyPl7z5bch928ef61iWzZsxw",
      "include_colab_link": true
    },
    "kernelspec": {
      "name": "python3",
      "display_name": "Python 3"
    },
    "language_info": {
      "name": "python"
    }
  },
  "cells": [
    {
      "cell_type": "markdown",
      "metadata": {
        "id": "view-in-github",
        "colab_type": "text"
      },
      "source": [
        "<a href=\"https://colab.research.google.com/github/NoCodeProgram/DesignPatterns/blob/main/Creational/BuilderP.ipynb\" target=\"_parent\"><img src=\"https://colab.research.google.com/assets/colab-badge.svg\" alt=\"Open In Colab\"/></a>"
      ]
    },
    {
      "cell_type": "code",
      "metadata": {
        "colab": {
          "base_uri": "https://localhost:8080/"
        },
        "id": "AjLONtj55ODb",
        "outputId": "78fb5482-7442-4c8d-e29c-55c7f4f5c8f4"
      },
      "source": [
        "class Cat:\n",
        "  def __init__(self,height,weight,gender,breed): #could be more props such as color,type,and more...\n",
        "    self.height = height\n",
        "    self.weight = weight\n",
        "    self.gender = gender\n",
        "    self.breed = breed\n",
        "\n",
        "  def print(self):\n",
        "    return print(f\"{self.height}cm,{self.weight}kg,{self.gender},{self.breed}\")\n",
        "  \n",
        "\n",
        "class CatBuilder:\n",
        "  def __init__(self):\n",
        "    self.height = 20\n",
        "    self.weight = 5\n",
        "    self.gender = \"female\"\n",
        "    self.breed = \"street\"\n",
        "    \n",
        "  def setHeight(self,height):\n",
        "    self.height = height\n",
        "    return self\n",
        "  \n",
        "  def setWeight(self,weight):\n",
        "    self.weight = weight\n",
        "    return self\n",
        "\n",
        "  def setGender(self,gender):\n",
        "    self.gender = gender\n",
        "    return self\n",
        "\n",
        "  def setBreed(self,breed):\n",
        "    self.breed = breed\n",
        "    return self\n",
        "\n",
        "  def build(self):\n",
        "    cat = Cat(self.height,self.weight,self.gender,self.breed)\n",
        "    #building a cat can be very complex\n",
        "    return cat\n",
        "\n",
        "cat_builder = CatBuilder()\n",
        "cat_builder.setHeight(30)\n",
        "cat_builder.setWeight(7)\n",
        "cat_builder.setGender(\"male\")\n",
        "cat_builder.setBreed(\"street\")\n",
        "cat = cat_builder.build()\n",
        "cat.print()\n"
      ],
      "execution_count": 10,
      "outputs": [
        {
          "output_type": "stream",
          "text": [
            "30cm,7kg,male,street\n"
          ],
          "name": "stdout"
        }
      ]
    },
    {
      "cell_type": "code",
      "metadata": {
        "colab": {
          "base_uri": "https://localhost:8080/",
          "height": 35
        },
        "id": "XpvHtuGW6yvi",
        "outputId": "062ece1b-9b52-46e3-ee07-852bfe510218"
      },
      "source": [
        "cat = CatBuilder().setHeight(20).setWeight(19).setGender(\"female\").setBreed(\"bengal\").build()\n",
        "cat.print()"
      ],
      "execution_count": 5,
      "outputs": [
        {
          "output_type": "execute_result",
          "data": {
            "application/vnd.google.colaboratory.intrinsic+json": {
              "type": "string"
            },
            "text/plain": [
              "'20cm,19kg,female,bengal'"
            ]
          },
          "metadata": {},
          "execution_count": 5
        }
      ]
    },
    {
      "cell_type": "code",
      "metadata": {
        "colab": {
          "base_uri": "https://localhost:8080/"
        },
        "id": "_UH0YNFH7xV4",
        "outputId": "ad9d5e23-77df-4159-9ddb-3b509f02365b"
      },
      "source": [
        "class PersianCatBuilder(CatBuilder):\n",
        "  def __init__(self):\n",
        "    super().__init__()\n",
        "    self.height = 10\n",
        "    self.weight = 10\n",
        "    self.gender = \"male\"\n",
        "    self.breed = \"persian\"\n",
        "\n",
        "cat = PersianCatBuilder().build()\n",
        "cat.print()"
      ],
      "execution_count": 12,
      "outputs": [
        {
          "output_type": "stream",
          "text": [
            "10cm,10kg,male,persian\n"
          ],
          "name": "stdout"
        }
      ]
    },
    {
      "cell_type": "code",
      "metadata": {
        "id": "HKHJK9gl82uv"
      },
      "source": [
        ""
      ],
      "execution_count": null,
      "outputs": []
    }
  ]
}