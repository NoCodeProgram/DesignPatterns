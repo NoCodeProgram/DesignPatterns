{
  "nbformat": 4,
  "nbformat_minor": 0,
  "metadata": {
    "colab": {
      "name": "BuilderP.ipynb",
      "provenance": [],
      "collapsed_sections": [],
      "authorship_tag": "ABX9TyPXl6soLu+MaVhyZpjFxZCx",
      "include_colab_link": true
    },
    "kernelspec": {
      "name": "python3",
      "display_name": "Python 3"
    },
    "language_info": {
      "name": "python"
    }
  },
  "cells": [
    {
      "cell_type": "markdown",
      "metadata": {
        "id": "view-in-github",
        "colab_type": "text"
      },
      "source": [
        "<a href=\"https://colab.research.google.com/github/NoCodeProgram/DesignPatterns/blob/main/Creational/BuilderP.ipynb\" target=\"_parent\"><img src=\"https://colab.research.google.com/assets/colab-badge.svg\" alt=\"Open In Colab\"/></a>"
      ]
    },
    {
      "cell_type": "code",
      "metadata": {
        "colab": {
          "base_uri": "https://localhost:8080/"
        },
        "id": "AjLONtj55ODb",
        "outputId": "c5001e05-bee3-425b-d075-339ff014f7f7"
      },
      "source": [
        "class Cat:\n",
        "  def __init__(self,height,weight,color): #could be more props such as type,and more...\n",
        "    self.height = height\n",
        "    self.weight = weight\n",
        "    self.color = color\n",
        "\n",
        "  def print(self):\n",
        "    return print(f\"{self.height}cm,{self.weight}kg,{self.color}\")\n",
        "  \n",
        "\n",
        "class CatBuilder:\n",
        "  def __init__(self):\n",
        "    self.height = None\n",
        "    self.weight = None\n",
        "    self.color = None\n",
        "    \n",
        "  def setHeight(self,height):\n",
        "    self.height = height\n",
        "    return self\n",
        "  \n",
        "  def setWeight(self,weight):\n",
        "    self.weight = weight\n",
        "    return self\n",
        "  def setColor(self,color):\n",
        "    self.color = color\n",
        "    return self\n",
        "\n",
        "  def build(self):\n",
        "    cat = Cat(self.height,self.weight,self.color)\n",
        "    #building a cat can be very complex\n",
        "    return cat\n",
        "\n",
        "cat_builder = CatBuilder()\n",
        "cat_builder.setHeight(30)\n",
        "cat_builder.setWeight(7)\n",
        "cat_builder.setColor(\"black\")\n",
        "cat = cat_builder.build()\n",
        "cat.print()\n"
      ],
      "execution_count": 24,
      "outputs": [
        {
          "output_type": "stream",
          "name": "stdout",
          "text": [
            "30cm,7kg,black\n"
          ]
        }
      ]
    },
    {
      "cell_type": "code",
      "metadata": {
        "colab": {
          "base_uri": "https://localhost:8080/"
        },
        "id": "XpvHtuGW6yvi",
        "outputId": "95ba9e10-f795-4bf9-bb6f-8ccf8ecd9167"
      },
      "source": [
        "cat = CatBuilder().setHeight(20).setWeight(19).setColor(\"green\").build()\n",
        "cat.print()"
      ],
      "execution_count": 25,
      "outputs": [
        {
          "output_type": "stream",
          "name": "stdout",
          "text": [
            "20cm,19kg,green\n"
          ]
        }
      ]
    },
    {
      "cell_type": "code",
      "metadata": {
        "colab": {
          "base_uri": "https://localhost:8080/"
        },
        "id": "_UH0YNFH7xV4",
        "outputId": "018c47c2-5613-4c8c-99db-587a2540df9f"
      },
      "source": [
        "class WhiteCatBuilder(CatBuilder):\n",
        "  def __init__(self):\n",
        "    super().__init__()\n",
        "    self.color = \"white\"\n",
        "\n",
        "class BlackCatBuilder(CatBuilder):\n",
        "  def __init__(self):\n",
        "    super().__init__()\n",
        "    self.color = \"black\"\n",
        "\n",
        "\n",
        "white_cat = WhiteCatBuilder().setHeight(10).setWeight(10).build()\n",
        "white_cat.print()\n",
        "black_cat = BlackCatBuilder().setHeight(20).setWeight(20).build()\n",
        "black_cat.print()"
      ],
      "execution_count": 26,
      "outputs": [
        {
          "output_type": "stream",
          "name": "stdout",
          "text": [
            "10cm,10kg,white\n",
            "20cm,20kg,black\n"
          ]
        }
      ]
    },
    {
      "cell_type": "code",
      "metadata": {
        "id": "HKHJK9gl82uv",
        "colab": {
          "base_uri": "https://localhost:8080/"
        },
        "outputId": "76ba126c-d22b-439d-f27d-dfd56b8bb08d"
      },
      "source": [
        "#Director is not mandatory\n",
        "class Director:\n",
        "  def setSmallCat(self,builder:CatBuilder):\n",
        "    builder.setWeight(5)\n",
        "    builder.setHeight(5)\n",
        "\n",
        "\n",
        "  def setBigCat(self,builder:CatBuilder):\n",
        "    builder.setWeight(100)\n",
        "    builder.setHeight(100)\n",
        "\n",
        "director = Director()\n",
        "black_cat_builder = BlackCatBuilder()\n",
        "director.setBigCat(black_cat_builder)\n",
        "cat = black_cat_builder.build()\n",
        "cat.print()"
      ],
      "execution_count": 28,
      "outputs": [
        {
          "output_type": "stream",
          "name": "stdout",
          "text": [
            "100cm,100kg,black\n"
          ]
        }
      ]
    },
    {
      "cell_type": "code",
      "metadata": {
        "id": "hnnsMvlndavK"
      },
      "source": [
        ""
      ],
      "execution_count": null,
      "outputs": []
    }
  ]
}