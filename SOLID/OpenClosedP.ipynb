{
  "nbformat": 4,
  "nbformat_minor": 0,
  "metadata": {
    "colab": {
      "name": "OpenClosedP.ipynb",
      "provenance": [],
      "collapsed_sections": [],
      "authorship_tag": "ABX9TyMI2mzoshXrM02X9eX6zxoB",
      "include_colab_link": true
    },
    "kernelspec": {
      "name": "python3",
      "display_name": "Python 3"
    },
    "language_info": {
      "name": "python"
    }
  },
  "cells": [
    {
      "cell_type": "markdown",
      "metadata": {
        "id": "view-in-github",
        "colab_type": "text"
      },
      "source": [
        "<a href=\"https://colab.research.google.com/github/NoCodeProgram/DesignPatterns/blob/main/SOLID/OpenClosedP.ipynb\" target=\"_parent\"><img src=\"https://colab.research.google.com/assets/colab-badge.svg\" alt=\"Open In Colab\"/></a>"
      ]
    },
    {
      "cell_type": "markdown",
      "metadata": {
        "id": "Rq_MkzVULsxX"
      },
      "source": [
        "Open closed principle을 준수하지 않는 Animal"
      ]
    },
    {
      "cell_type": "code",
      "metadata": {
        "colab": {
          "base_uri": "https://localhost:8080/"
        },
        "id": "ni5Cxh6UqN69",
        "outputId": "ab9d402a-1a03-4643-e85f-6e2e506f7b5c"
      },
      "source": [
        "class Animal():\n",
        "  def __init__(self,type):\n",
        "    self.type = type\n",
        "\n",
        "\n",
        "def hey(animal):\n",
        "  if animal.type == 'Cat':\n",
        "    print('meow')\n",
        "  elif animal.type == 'Dog':\n",
        "    print('bark')\n",
        "\n",
        "bingo = Animal('Dog')\n",
        "kitty = Animal('Cat')\n",
        "\n",
        "#Cow와 Sheep을 추가하기위해 hey함수의 수정이 필요하다.\n",
        "\n",
        "hey(bingo)\n",
        "hey(kitty)"
      ],
      "execution_count": null,
      "outputs": [
        {
          "output_type": "stream",
          "text": [
            "bark\n",
            "meow\n"
          ],
          "name": "stdout"
        }
      ]
    },
    {
      "cell_type": "markdown",
      "metadata": {
        "id": "Qj5A_A2xMGLf"
      },
      "source": [
        "상속을 이용한 Animal class. 추가되는 동물에 대해 hey함수의 수정을 필요로 하지 않는다"
      ]
    },
    {
      "cell_type": "code",
      "metadata": {
        "colab": {
          "base_uri": "https://localhost:8080/"
        },
        "id": "DUP_jFQdonqQ",
        "outputId": "ee57cec7-5393-464e-edc7-3d1e70d419e8"
      },
      "source": [
        "class Animal: \n",
        "  def speak(self):  #interface method\n",
        "    pass\n",
        "\n",
        "class Cat(Animal):\n",
        "  def speak(self):\n",
        "    print(\"meow\")\n",
        "\n",
        "class Dog(Animal):\n",
        "  def speak(self):\n",
        "    print(\"bark\")\n",
        "\n",
        "class Sheep(Animal):\n",
        "  def speak(self):\n",
        "    print(\"meh\")\n",
        "\n",
        "class Cow(Animal):\n",
        "  def speak(self):\n",
        "    print(\"moo\")\n",
        "\n",
        "def hey(animal):\n",
        "  animal.speak();\n",
        "\n",
        "\n",
        "bingo = Dog()\n",
        "kitty = Cat()\n",
        "sheep = Sheep()\n",
        "cow = Cow()\n",
        "\n",
        "hey(bingo)\n",
        "hey(kitty)\n",
        "hey(sheep)\n",
        "hey(cow)\n"
      ],
      "execution_count": 1,
      "outputs": [
        {
          "output_type": "stream",
          "text": [
            "bark\n",
            "meow\n",
            "meh\n",
            "moo\n"
          ],
          "name": "stdout"
        }
      ]
    },
    {
      "cell_type": "markdown",
      "metadata": {
        "id": "eTNk6VqktG6k"
      },
      "source": [
        "python/javascript같은 언어에서는 Open closed principle을 위해 꼭 상속 개념을 필요로 하지는 않음. (Animal class가 없어도 됨)"
      ]
    },
    {
      "cell_type": "code",
      "metadata": {
        "colab": {
          "base_uri": "https://localhost:8080/"
        },
        "id": "g1gGW9vYp5ft",
        "outputId": "a21f4c9e-bb4c-4037-aaaa-cc3e0d6c4975"
      },
      "source": [
        "class Cat():\n",
        "  def speak(self):\n",
        "    print(\"meow\")\n",
        "\n",
        "class Dog():\n",
        "  def speak(self):\n",
        "    print(\"bark\")\n",
        "\n",
        "def hey(animal):\n",
        "  animal.speak();\n",
        "\n",
        "bingo = Dog()\n",
        "kitty = Cat()\n",
        "\n",
        "hey(bingo)\n",
        "hey(kitty)\n"
      ],
      "execution_count": 1,
      "outputs": [
        {
          "output_type": "stream",
          "text": [
            "bark\n",
            "meow\n"
          ],
          "name": "stdout"
        }
      ]
    }
  ]
}