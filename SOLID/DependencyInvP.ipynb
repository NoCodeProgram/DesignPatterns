{
  "nbformat": 4,
  "nbformat_minor": 0,
  "metadata": {
    "colab": {
      "name": "DependencyInvP.ipynb",
      "provenance": [],
      "collapsed_sections": [],
      "authorship_tag": "ABX9TyNsJMAQ4PYGZDb02GWz16Qy",
      "include_colab_link": true
    },
    "kernelspec": {
      "name": "python3",
      "display_name": "Python 3"
    },
    "language_info": {
      "name": "python"
    }
  },
  "cells": [
    {
      "cell_type": "markdown",
      "metadata": {
        "id": "view-in-github",
        "colab_type": "text"
      },
      "source": [
        "<a href=\"https://colab.research.google.com/github/NoCodeProgram/DesignPatterns/blob/main/SOLID/DependencyInvP.ipynb\" target=\"_parent\"><img src=\"https://colab.research.google.com/assets/colab-badge.svg\" alt=\"Open In Colab\"/></a>"
      ]
    },
    {
      "cell_type": "markdown",
      "metadata": {
        "id": "8mz7Reov75rS"
      },
      "source": [
        "Traditional Pattern\n"
      ]
    },
    {
      "cell_type": "code",
      "metadata": {
        "colab": {
          "base_uri": "https://localhost:8080/"
        },
        "id": "uf2G35Hh7z0D",
        "outputId": "155fac8a-a8f4-4f7a-a5b2-7048a8410a8b"
      },
      "source": [
        "class Cat:\n",
        "  def speak(self):\n",
        "    print(\"meow\")\n",
        "\n",
        "class Dog:\n",
        "  def speak(self):\n",
        "    print(\"bark\")\n",
        "\n",
        "\n",
        "#Zoo depdns on Cat and Dog\n",
        "class Zoo:\n",
        "  def __init__(self):\n",
        "    self.dog = Dog()\n",
        "    self.cat = Cat()\n",
        "\n",
        "  def speakAll(self):\n",
        "    self.cat.speak()\n",
        "    self.dog.speak()\n",
        "\n",
        "\n",
        "zoo = Zoo()\n",
        "zoo.speakAll()\n",
        "\n"
      ],
      "execution_count": null,
      "outputs": [
        {
          "output_type": "stream",
          "text": [
            "meow\n",
            "bark\n"
          ],
          "name": "stdout"
        }
      ]
    },
    {
      "cell_type": "markdown",
      "metadata": {
        "id": "g_FlSYkW8qWM"
      },
      "source": [
        "Dependency Inversion Pattern"
      ]
    },
    {
      "cell_type": "code",
      "metadata": {
        "colab": {
          "base_uri": "https://localhost:8080/"
        },
        "id": "EEHBH5SI8lpS",
        "outputId": "a3bed100-51ae-425b-9182-7415c9186e68"
      },
      "source": [
        "class Animal: #abstract module\n",
        "  def speak(self): #interface method\n",
        "    pass\n",
        "\n",
        "class Cat(Animal):\n",
        "  def speak(self):\n",
        "    print(\"meow\")\n",
        "\n",
        "class Dog(Animal):\n",
        "  def speak(self):\n",
        "    print(\"bark\")\n",
        "\n",
        "\n",
        "#Zoo depends on Animal.   (Not Cat, Not Dog)\n",
        "class Zoo:\n",
        "  def __init__(self):\n",
        "    self.animals = []\n",
        "\n",
        "  def addAnimal(self,animal):\n",
        "    self.animals.append(animal)\n",
        "  \n",
        "  def speakAll(self):\n",
        "    for animal in self.animals:\n",
        "      animal.speak()\n",
        "\n",
        "zoo = Zoo()\n",
        "zoo.addAnimal(Cat())\n",
        "zoo.addAnimal(Dog())\n",
        "zoo.speakAll()\n",
        "              "
      ],
      "execution_count": 2,
      "outputs": [
        {
          "output_type": "stream",
          "name": "stdout",
          "text": [
            "meow\n",
            "bark\n"
          ]
        }
      ]
    },
    {
      "cell_type": "code",
      "metadata": {
        "id": "R0FW6SjT9mVK"
      },
      "source": [
        ""
      ],
      "execution_count": null,
      "outputs": []
    }
  ]
}