{
  "nbformat": 4,
  "nbformat_minor": 0,
  "metadata": {
    "colab": {
      "name": "SingleResp.ipynb",
      "provenance": [],
      "collapsed_sections": [],
      "authorship_tag": "ABX9TyPGMdtqKV3LMEQh4LuRw5Tq",
      "include_colab_link": true
    },
    "kernelspec": {
      "name": "python3",
      "display_name": "Python 3"
    },
    "language_info": {
      "name": "python"
    }
  },
  "cells": [
    {
      "cell_type": "markdown",
      "metadata": {
        "id": "view-in-github",
        "colab_type": "text"
      },
      "source": [
        "<a href=\"https://colab.research.google.com/github/NoCodeProgram/DesignPatterns/blob/main/SOLID/SingleResp.ipynb\" target=\"_parent\"><img src=\"https://colab.research.google.com/assets/colab-badge.svg\" alt=\"Open In Colab\"/></a>"
      ]
    },
    {
      "cell_type": "markdown",
      "metadata": {
        "id": "2EoxKugS_TGM"
      },
      "source": [
        "Single Responsibility principle"
      ]
    },
    {
      "cell_type": "code",
      "metadata": {
        "colab": {
          "base_uri": "https://localhost:8080/"
        },
        "id": "F7_EqxKg9lYd",
        "outputId": "eb98c293-2306-4778-9764-30d5331a2eeb"
      },
      "source": [
        "class Cat:\n",
        "  def __init__(self,age,name):\n",
        "    self.age = age\n",
        "    self.name = name\n",
        "  \n",
        "  def eat(self):\n",
        "    print(\"eating..\")\n",
        "\n",
        "  def walk(self):\n",
        "    print(\"walking..\")\n",
        "\n",
        "  def speak(self):\n",
        "    print(\"meow~\")\n",
        "  \n",
        "  def repr(self):\n",
        "    return f\"name:{self.name}, age:{self.age}\"\n",
        "  \n",
        "kitty = Cat(3,\"kitty\")\n",
        "kitty.eat()\n",
        "kitty.walk()\n",
        "kitty.speak()\n",
        "print(kitty.repr())\n",
        "#Logger.log(kitty.repr()) ,  If you have the logger object"
      ],
      "execution_count": 11,
      "outputs": [
        {
          "output_type": "stream",
          "text": [
            "eating..\n",
            "walking..\n",
            "meow~\n",
            "name:kitty, age:3\n"
          ],
          "name": "stdout"
        }
      ]
    },
    {
      "cell_type": "code",
      "metadata": {
        "id": "fgSRn4V0-WTF"
      },
      "source": [
        ""
      ],
      "execution_count": null,
      "outputs": []
    }
  ]
}